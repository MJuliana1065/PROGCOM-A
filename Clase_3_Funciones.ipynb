{
  "nbformat": 4,
  "nbformat_minor": 0,
  "metadata": {
    "colab": {
      "provenance": [],
      "authorship_tag": "ABX9TyP+uqPsniMh3TZgis1TKkc7",
      "include_colab_link": true
    },
    "kernelspec": {
      "name": "python3",
      "display_name": "Python 3"
    },
    "language_info": {
      "name": "python"
    }
  },
  "cells": [
    {
      "cell_type": "markdown",
      "metadata": {
        "id": "view-in-github",
        "colab_type": "text"
      },
      "source": [
        "<a href=\"https://colab.research.google.com/github/MJuliana1065/PROGCOM-A/blob/main/Clase_3_Funciones.ipynb\" target=\"_parent\"><img src=\"https://colab.research.google.com/assets/colab-badge.svg\" alt=\"Open In Colab\"/></a>"
      ]
    },
    {
      "cell_type": "markdown",
      "source": [
        "#FUNCIONES\n",
        "\n",
        "copiado dinámico.\n",
        "\n",
        "dió nacimiento a un nuevo paradigma de programación llamado programación modular\n",
        "\n",
        "##Forma general de programar funciones.\n",
        "\n",
        "def (nombre_de_funcion) (p,p2,p3..pn9:\n",
        "  donde p, p2, p3..pn: son parametros\n",
        "\n"
      ],
      "metadata": {
        "id": "kwnyuWju3rG9"
      }
    },
    {
      "cell_type": "markdown",
      "source": [
        "1. lista()\n",
        "2. len()\n",
        "3. print()\n",
        "4. append() #POO metodo\n",
        "#cuando no tiene (.) es una función pero si tiene es metodo\n",
        "5. int()\n",
        "6. input()\n"
      ],
      "metadata": {
        "id": "ICuFlqtU5Soj"
      }
    },
    {
      "cell_type": "markdown",
      "source": [
        "##Tipos de funciones\n",
        "\n",
        "1. Sin parámetro, sin retorno\n",
        "2. Sin parámetros, con retorno\n",
        "3. Con parámetros, sin retorno\n",
        "4. Con parámetros, con retorno"
      ],
      "metadata": {
        "id": "IIVSVd5j6Gt8"
      }
    },
    {
      "cell_type": "code",
      "source": [
        "#Ejemplo: Entrada de cajero electrónico\n",
        "def cajero(): #Esto signifca que es sin parametros\n",
        "  print(\"Bienvenido a DaviUNAB\")\n",
        "  print(\"Estas so las operaciones que puede realizar\")\n",
        "  print(\"1. Retirar\\n2.Transferencia\\n3. Denunciar\\n4.Operaciones sin tarjeta\")\n"
      ],
      "metadata": {
        "id": "zaBDhVyW7Hbx"
      },
      "execution_count": 1,
      "outputs": []
    },
    {
      "cell_type": "code",
      "source": [
        "#Ejemplo: Entrada de cajero electrónico\n",
        "def cajero2(): #Esto signifca que es sin parametros\n",
        "  print(\"Bienvenido a DaviUNAB\")\n",
        "  print(\"Estas so las operaciones que puede realizar\")\n",
        "  print(\"1. Retirar\\n2.Transferencia\\n3. Denunciar\\n4.Operaciones sin tarjeta\")\n",
        "  rta=input(\"ingrese una opción 2\")  #variable local\n",
        "  return rta #vuela una variable local a global"
      ],
      "metadata": {
        "id": "CEdGPHwS-XOg"
      },
      "execution_count": 2,
      "outputs": []
    },
    {
      "cell_type": "code",
      "source": [
        "rta=cajero2()"
      ],
      "metadata": {
        "colab": {
          "base_uri": "https://localhost:8080/"
        },
        "id": "bGJybxOx-w1n",
        "outputId": "467e141a-af66-4524-aebe-ceb14374baee"
      },
      "execution_count": null,
      "outputs": [
        {
          "output_type": "stream",
          "name": "stdout",
          "text": [
            "Bienvenido a DaviUNAB\n",
            "Estas so las operaciones que puede realizar\n",
            "1. Retirar\n",
            "2.Transferencia\n",
            "3. Denunciar\n",
            "4.Operaciones sin tarjeta\n"
          ]
        }
      ]
    },
    {
      "cell_type": "code",
      "source": [
        "#Ejemplo: el área de un rectangulo def ab (u,du):\n",
        "\n",
        "  return f\"El área de un rectangulo de base {u} y altura {du} es {u*du}\")"
      ],
      "metadata": {
        "id": "WPx7t-o_ASBN"
      },
      "execution_count": null,
      "outputs": []
    },
    {
      "cell_type": "code",
      "source": [
        "a=ab(2,3)"
      ],
      "metadata": {
        "id": "TFba1kUdAysF"
      },
      "execution_count": null,
      "outputs": []
    },
    {
      "cell_type": "code",
      "source": [
        "print(a)"
      ],
      "metadata": {
        "id": "0kABLxJJA218"
      },
      "execution_count": null,
      "outputs": []
    },
    {
      "cell_type": "markdown",
      "source": [
        "#4. c"
      ],
      "metadata": {
        "id": "5UQT7UW4BfYc"
      }
    },
    {
      "cell_type": "markdown",
      "source": [
        "#FUNCIONES ANÓNIMAS O LAMBDA\n",
        "1. Siempren usan parametros\n",
        "2. Siempre genera retorno\n",
        "3. No tienen nombre -->anónimas\n",
        "4. **Se puede emplear n parámetros, pero sólo ejecta una línea de código**\n",
        "\n",
        "\n",
        "##Definicón de funciones LAMBDA\n",
        "\n",
        "\n",
        "\n",
        "```\n",
        "variable=lambda (p,p1,p22,...,pn):\n",
        "operación\n",
        "```\n",
        "\n"
      ],
      "metadata": {
        "id": "m4m5QWDvDbPy"
      }
    },
    {
      "cell_type": "code",
      "source": [
        "#Ejemplo: calcular el área de un triángulo\n",
        "area_triangulo=lambda a,b:a*b/2"
      ],
      "metadata": {
        "id": "HEdT4i01Etwx"
      },
      "execution_count": null,
      "outputs": []
    },
    {
      "cell_type": "code",
      "source": [
        "area_triangulo(3,8)"
      ],
      "metadata": {
        "id": "KeoSupYwFDsh"
      },
      "execution_count": null,
      "outputs": []
    },
    {
      "cell_type": "code",
      "source": [
        "#calcular el área de un circulo\n",
        "area_circulo=lambda c: 3.14*c**2"
      ],
      "metadata": {
        "id": "g0qWAE5IGGbL"
      },
      "execution_count": 1,
      "outputs": []
    },
    {
      "cell_type": "code",
      "source": [
        "#como hacer una app con una libreria de interfaz grafico"
      ],
      "metadata": {
        "id": "V5fE99F5H8BA"
      },
      "execution_count": null,
      "outputs": []
    },
    {
      "cell_type": "code",
      "source": [
        "area_circulo(5)"
      ],
      "metadata": {
        "colab": {
          "base_uri": "https://localhost:8080/"
        },
        "id": "4yD5AtgqHDWw",
        "outputId": "35619413-121d-4088-cc7c-fdf7f16f4451"
      },
      "execution_count": 2,
      "outputs": [
        {
          "output_type": "execute_result",
          "data": {
            "text/plain": [
              "78.5"
            ]
          },
          "metadata": {},
          "execution_count": 2
        }
      ]
    },
    {
      "cell_type": "code",
      "source": [],
      "metadata": {
        "id": "d-FM6s_6J_lV"
      },
      "execution_count": null,
      "outputs": []
    },
    {
      "cell_type": "code",
      "source": [
        "calcular_numero=lambda a,b,c: a if a>b>c else b if a>b>c else c"
      ],
      "metadata": {
        "id": "8YJqvTyaIrmQ"
      },
      "execution_count": 13,
      "outputs": []
    },
    {
      "cell_type": "code",
      "source": [
        "calcular_numero(2,4,7)"
      ],
      "metadata": {
        "colab": {
          "base_uri": "https://localhost:8080/"
        },
        "id": "uLsddA2WKc2F",
        "outputId": "c33adffc-f6a6-494b-b8e9-4b27b6e4d4de"
      },
      "execution_count": 14,
      "outputs": [
        {
          "output_type": "execute_result",
          "data": {
            "text/plain": [
              "7"
            ]
          },
          "metadata": {},
          "execution_count": 14
        }
      ]
    },
    {
      "cell_type": "code",
      "source": [
        "mayor=lambda x,y,z;. f\"{x} es el mayor\" if x>y and x>z else (f\"{y} es el mayor\") if y>z else f\"{z} es el mayor \""
      ],
      "metadata": {
        "id": "nS45l7MuMF8N"
      },
      "execution_count": null,
      "outputs": []
    }
  ]
}