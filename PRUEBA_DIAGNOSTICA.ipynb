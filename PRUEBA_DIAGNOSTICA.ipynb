{
  "nbformat": 4,
  "nbformat_minor": 0,
  "metadata": {
    "colab": {
      "provenance": [],
      "authorship_tag": "ABX9TyOCJ1dJRPFPOZhvtubxYzyb",
      "include_colab_link": true
    },
    "kernelspec": {
      "name": "python3",
      "display_name": "Python 3"
    },
    "language_info": {
      "name": "python"
    }
  },
  "cells": [
    {
      "cell_type": "markdown",
      "metadata": {
        "id": "view-in-github",
        "colab_type": "text"
      },
      "source": [
        "<a href=\"https://colab.research.google.com/github/MJuliana1065/PROGCOM-A/blob/main/PRUEBA_DIAGNOSTICA.ipynb\" target=\"_parent\"><img src=\"https://colab.research.google.com/assets/colab-badge.svg\" alt=\"Open In Colab\"/></a>"
      ]
    },
    {
      "cell_type": "code",
      "execution_count": null,
      "metadata": {
        "id": "VX2fa9s1LfKX"
      },
      "outputs": [],
      "source": []
    },
    {
      "cell_type": "markdown",
      "source": [
        "##Estructura de selección\n",
        "Aquí se desarrollara ejercicios sobre estructuras de selección por pseint\n",
        "\n",
        "```\n",
        "si (condición) entonces:\n",
        "  pasan cosas divertida ⏰\n",
        "  sino:\n",
        "    llórelo ☹\n",
        "```\n",
        " por algoritmia\n",
        " 1. solicito la variable y la almaceno en A\n",
        " 2. Comparo esa variable con la B\n"
      ],
      "metadata": {
        "id": "PY2-tD7OLvVh"
      }
    },
    {
      "cell_type": "code",
      "source": [
        "#1\tEscribe un programa que reciba un número e indique si es positivo\n",
        "n=int(input(\"ingresa un numero\"))\n",
        "if n>0:\n",
        "  print(n, \"es positivo\")\n",
        "else:\n",
        "  n<0\n",
        "  print(n, \"no es positivo\")"
      ],
      "metadata": {
        "colab": {
          "base_uri": "https://localhost:8080/"
        },
        "id": "UC0C-hGML7lJ",
        "outputId": "f059340d-11bd-47f6-c9f7-fbd878cdf3ca"
      },
      "execution_count": 11,
      "outputs": [
        {
          "output_type": "stream",
          "name": "stdout",
          "text": [
            "ingresa un numero5\n",
            "5 es positivo\n"
          ]
        }
      ]
    },
    {
      "cell_type": "code",
      "source": [
        "#2\tEscribe un programa que reciba una edad y determine si la persona es mayor de edad.\n",
        "n=int(input(\" ingresa una edad\"))\n",
        "if n>=18:\n",
        "  print(\" es mayor de edad\")\n",
        "else:\n",
        "  n<=17\n",
        "  print(\" es menor de edad\")"
      ],
      "metadata": {
        "colab": {
          "base_uri": "https://localhost:8080/"
        },
        "id": "Mob0U6ZpX5Ke",
        "outputId": "d881b651-6c99-4a3a-f43d-1a9b7a27444b"
      },
      "execution_count": 16,
      "outputs": [
        {
          "output_type": "stream",
          "name": "stdout",
          "text": [
            " ingresa una edad2\n",
            " es menor de edad\n"
          ]
        }
      ]
    },
    {
      "cell_type": "code",
      "source": [
        "#3\tEscribe un programa que reciba dos números e imprima el mayor.\n",
        "\n",
        "n1=int(input(\"ingresa un numero\"))\n",
        "n2=int(input(\"ingresa otro numero\"))\n",
        "if n1>n2:\n",
        "  print(n1, \"es mayor\")\n",
        "else:\n",
        "  n2>n1\n",
        "  print(n2, \"es mayor\")"
      ],
      "metadata": {
        "colab": {
          "base_uri": "https://localhost:8080/"
        },
        "id": "C29d6_epZe5E",
        "outputId": "ad466354-8778-4410-90f2-c7d89ecdd445"
      },
      "execution_count": 19,
      "outputs": [
        {
          "output_type": "stream",
          "name": "stdout",
          "text": [
            "ingresa un numero3\n",
            "ingresa otro numero4\n",
            "4 es mayor\n"
          ]
        }
      ]
    },
    {
      "cell_type": "code",
      "source": [],
      "metadata": {
        "id": "lsvmKVC_ccdS"
      },
      "execution_count": null,
      "outputs": []
    },
    {
      "cell_type": "code",
      "source": [
        "#4\tEscribe un programa que reciba una calificación (0-100) e indique si es Aprobado (>=60) o Reprobado\n",
        "n=int(input(\"ingresa una nota\"))\n",
        "if n>= 0 and n<=100:\n",
        "  if n>=60:\n",
        "    print(\"es aprobado\")\n",
        "  else:\n",
        "    n<=59\n",
        "    print(\"es reprobado\")\n",
        "\n"
      ],
      "metadata": {
        "colab": {
          "base_uri": "https://localhost:8080/"
        },
        "id": "Swp8EBwWaXzj",
        "outputId": "c97e8482-6d7d-44be-9457-3f2d5b1931c1"
      },
      "execution_count": 21,
      "outputs": [
        {
          "output_type": "stream",
          "name": "stdout",
          "text": [
            "ingresa una nota45\n",
            "es reprobado\n"
          ]
        }
      ]
    },
    {
      "cell_type": "code",
      "source": [
        "#5\tEscribe un programa que determine si un número es par o impar.\n",
        "\n",
        "n=int(input(\"ingresa un numero\"))\n",
        "if n/2=0:\n",
        "  print(\"el numero es par\")\n",
        "else:\n",
        "  print(\"el numero es impar\")"
      ],
      "metadata": {
        "id": "bWPqmKfscd7x"
      },
      "execution_count": null,
      "outputs": []
    },
    {
      "cell_type": "code",
      "source": [
        "#6\tEscribe un programa que reciba tres números e imprima el mayor de los tres.\n",
        "n=int(input(\"ingresa un numero\"))\n",
        "n2=int(input(\"ingresa un numero\"))\n",
        "n3=int(input(\"ingresa un numero\"))\n",
        "if n>n2:\n",
        "  print(\"es mayor\")\n",
        "elif:\n",
        "  n2>n1\n"
      ],
      "metadata": {
        "id": "QOymifGlc1_5"
      },
      "execution_count": null,
      "outputs": []
    },
    {
      "cell_type": "code",
      "source": [
        "#Parte 2: Estructuras de Repetición (10 ejercicios) 1\tEscribe un programa que imprima los números del 1 al 10.\n",
        "n=0\n",
        "for n in range(1,10,1):\n",
        "  print(n)\n"
      ],
      "metadata": {
        "colab": {
          "base_uri": "https://localhost:8080/"
        },
        "id": "HWzuP6wOafsj",
        "outputId": "e82ad407-0cdd-4cec-e1ec-2dff8588b877"
      },
      "execution_count": 22,
      "outputs": [
        {
          "output_type": "stream",
          "name": "stdout",
          "text": [
            "1\n",
            "2\n",
            "3\n",
            "4\n",
            "5\n",
            "6\n",
            "7\n",
            "8\n",
            "9\n"
          ]
        }
      ]
    },
    {
      "cell_type": "code",
      "source": [
        "#5\tEscribe un programa que pida 5 números al usuario y calcule el promedio.\n",
        "n1=int(input(\"ingresa un numero \"))\n",
        "n2=int(input(\"ingresa un numero \"))\n",
        "n3=int(input(\"ingresa un numero \"))\n",
        "n4=int(input(\"ingresa un numero \"))\n",
        "n5=int(input(\"ingresa un numero \"))\n",
        "s=n1+n2+n3+n4+n5\n",
        "p=s/n\n",
        "print(\"promedio es: \",p)"
      ],
      "metadata": {
        "id": "NdjreJUQby96"
      },
      "execution_count": null,
      "outputs": []
    },
    {
      "cell_type": "code",
      "source": [],
      "metadata": {
        "id": "MbwbQGHZcSSK"
      },
      "execution_count": null,
      "outputs": []
    }
  ]
}