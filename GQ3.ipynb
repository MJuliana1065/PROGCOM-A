{
  "nbformat": 4,
  "nbformat_minor": 0,
  "metadata": {
    "colab": {
      "provenance": [],
      "authorship_tag": "ABX9TyP7alQq+xnVs+k/ikNJ1gez",
      "include_colab_link": true
    },
    "kernelspec": {
      "name": "python3",
      "display_name": "Python 3"
    },
    "language_info": {
      "name": "python"
    }
  },
  "cells": [
    {
      "cell_type": "markdown",
      "metadata": {
        "id": "view-in-github",
        "colab_type": "text"
      },
      "source": [
        "<a href=\"https://colab.research.google.com/github/MJuliana1065/PROGCOM-A/blob/main/GQ3.ipynb\" target=\"_parent\"><img src=\"https://colab.research.google.com/assets/colab-badge.svg\" alt=\"Open In Colab\"/></a>"
      ]
    },
    {
      "cell_type": "markdown",
      "source": [
        "CALCULADORA DE LA PRESIÓN ARTERIAL\n"
      ],
      "metadata": {
        "id": "u6BYvgUck6gj"
      }
    },
    {
      "cell_type": "code",
      "execution_count": null,
      "metadata": {
        "id": "4c7FJ4Nfk3dR"
      },
      "outputs": [],
      "source": [
        "def calcular_pam(sistolica, diastolica):\n",
        "    pam = (sistolica + 2 * diastolica) / 3\n",
        "    return pam\n",
        "\n",
        "print(\"Calculadora de Presión Arterial Media (PAM)\")\n",
        "try:\n",
        "    sistolica = float(input(\"Ingresa la presión sistólica (mmHg): \"))\n",
        "    diastolica = float(input(\"Ingresa la presión diastólica (mmHg): \"))\n",
        "\n",
        "    pam = calcular_pam(sistolica, diastolica)\n",
        "    print(f\"La presión arterial media es: {pam:.2f} mmHg\")\n",
        "\n",
        "    if pam < 60:\n",
        "        print(\" PAM baja: riesgo de hipoperfusión.\")\n",
        "    elif pam > 100:\n",
        "        print(\" PAM elevada: posible hipertensión.\")\n",
        "    else:\n",
        "        print(\" PAM dentro del rango normal.\")\n",
        "except ValueError:\n",
        "    print(\"Por favor, ingresa valores numéricos válidos.\")"
      ]
    }
  ]
}