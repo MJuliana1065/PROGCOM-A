{
  "nbformat": 4,
  "nbformat_minor": 0,
  "metadata": {
    "colab": {
      "provenance": [],
      "authorship_tag": "ABX9TyPz7R6cMv70nwdjZIzoSuAY",
      "include_colab_link": true
    },
    "kernelspec": {
      "name": "python3",
      "display_name": "Python 3"
    },
    "language_info": {
      "name": "python"
    }
  },
  "cells": [
    {
      "cell_type": "markdown",
      "metadata": {
        "id": "view-in-github",
        "colab_type": "text"
      },
      "source": [
        "<a href=\"https://colab.research.google.com/github/MJuliana1065/PROGCOM-A/blob/main/GP1.ipynb\" target=\"_parent\"><img src=\"https://colab.research.google.com/assets/colab-badge.svg\" alt=\"Open In Colab\"/></a>"
      ]
    },
    {
      "cell_type": "code",
      "execution_count": 8,
      "metadata": {
        "colab": {
          "base_uri": "https://localhost:8080/"
        },
        "id": "6jv_3LSMmRGu",
        "outputId": "ca6c6e5e-8875-4329-fcab-6f2118fc6a7d"
      },
      "outputs": [
        {
          "output_type": "stream",
          "name": "stdout",
          "text": [
            "Juego: Piedra, Papel o Tijera\n",
            "Gana quien llegue a 3 puntos.\n",
            "\n",
            "\n",
            "Ronda 1\n",
            "1. Piedra\n",
            "2. Papel\n",
            "33. Tijera\n",
            "Tu opción (1-3): 1\n",
            "Tú elegiste: Piedra\n",
            "CPU eligió: Tijera\n",
            "Ganaste esta ronda.\n",
            "Puntos → Tú: 1 | CPU: 0\n",
            "\n",
            "Ronda 2\n",
            "1. Piedra\n",
            "2. Papel\n",
            "33. Tijera\n",
            "Tu opción (1-3): 2\n",
            "Tú elegiste: Papel\n",
            "CPU eligió: Papel\n",
            "Empate.\n",
            "Puntos → Tú: 1 | CPU: 0\n",
            "\n",
            "Ronda 3\n",
            "1. Piedra\n",
            "2. Papel\n",
            "33. Tijera\n",
            "Tu opción (1-3): 3\n",
            "Tú elegiste: Tijera\n",
            "CPU eligió: Papel\n",
            "Ganaste esta ronda.\n",
            "Puntos → Tú: 2 | CPU: 0\n",
            "\n",
            "Ronda 4\n",
            "1. Piedra\n",
            "2. Papel\n",
            "33. Tijera\n",
            "Tu opción (1-3): 3\n",
            "Tú elegiste: Tijera\n",
            "CPU eligió: Papel\n",
            "Ganaste esta ronda.\n",
            "Puntos → Tú: 3 | CPU: 0\n",
            "\n",
            "👾 ¡Waos venciste a la máquina!\n"
          ]
        },
        {
          "output_type": "execute_result",
          "data": {
            "text/plain": [
              "3"
            ]
          },
          "metadata": {},
          "execution_count": 8
        }
      ],
      "source": [
        "import random\n",
        "\n",
        "print(\"Juego: Piedra, Papel o Tijera\")\n",
        "print(\"Gana quien llegue a 3 puntos.\\n\")\n",
        "\n",
        "usuario = 0\n",
        "cpu = 0\n",
        "ronda = 1\n",
        "\n",
        "while usuario < 3 and cpu < 3:\n",
        "    print(f\"\\nRonda {ronda}\")\n",
        "    print(\"1. Piedra\\n2. Papel\\n33. Tijera\")\n",
        "    eleccion = input(\"Tu opción (1-3): \")\n",
        "\n",
        "    if eleccion not in [\"1\", \"2\", \"3\"]:\n",
        "        print(\"Opción inválida.\")\n",
        "        continue\n",
        "\n",
        "    jugador = int(eleccion)\n",
        "    maquina = random.randint(1, 3)\n",
        "\n",
        "    opciones = [\"Piedra\", \"Papel\", \"Tijera\"]\n",
        "    print(\"Tú elegiste:\", opciones[jugador - 1])\n",
        "    print(\"CPU eligió:\", opciones[maquina - 1])\n",
        "\n",
        "    if jugador == maquina:\n",
        "        print(\"Empate.\")\n",
        "    elif (jugador == 1 and maquina == 3) or \\\n",
        "         (jugador == 2 and maquina == 1) or \\\n",
        "         (jugador == 3 and maquina == 2):\n",
        "        print(\"Ganaste esta ronda.\")\n",
        "        usuario += 1\n",
        "    else:\n",
        "        print(\"Perdiste esta ronda.\")\n",
        "        cpu += 1\n",
        "\n",
        "    print(f\"Puntos → Tú: {usuario} | CPU: {cpu}\")\n",
        "    ronda += 1\n",
        "\n",
        "if usuario == 3:\n",
        "    print(\"\\n👾 ¡Waos venciste a la máquina!\")\n",
        "else:\n",
        "    print(\"\\n👻 jeje te ganó el internet.\")\n",
        "3\n",
        "3\n"
      ]
    }
  ]
}