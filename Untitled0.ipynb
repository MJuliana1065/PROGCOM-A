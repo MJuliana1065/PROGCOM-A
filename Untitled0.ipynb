{
  "nbformat": 4,
  "nbformat_minor": 0,
  "metadata": {
    "colab": {
      "provenance": [],
      "authorship_tag": "ABX9TyMRg5WN7jeb3wa+RUppvy4P",
      "include_colab_link": true
    },
    "kernelspec": {
      "name": "python3",
      "display_name": "Python 3"
    },
    "language_info": {
      "name": "python"
    }
  },
  "cells": [
    {
      "cell_type": "markdown",
      "metadata": {
        "id": "view-in-github",
        "colab_type": "text"
      },
      "source": [
        "<a href=\"https://colab.research.google.com/github/MJuliana1065/PROGCOM-A/blob/main/Untitled0.ipynb\" target=\"_parent\"><img src=\"https://colab.research.google.com/assets/colab-badge.svg\" alt=\"Open In Colab\"/></a>"
      ]
    },
    {
      "cell_type": "code",
      "source": [
        "# Crear una lista con los cuadrados de los números del 1 al 10.\n",
        "num1_10 = [1, 2, 3, 4, 5, 6, 7, 8, 9, 10]\n",
        "cuadrados =[i**2 for i in num1_10]\n",
        "cuadrados"
      ],
      "metadata": {
        "colab": {
          "base_uri": "https://localhost:8080/"
        },
        "id": "MTbX5iDYT0RW",
        "outputId": "54e6f52a-9c57-4cec-af2c-009731e0b71d"
      },
      "execution_count": null,
      "outputs": [
        {
          "output_type": "execute_result",
          "data": {
            "text/plain": [
              "[1, 4, 9, 16, 25, 36, 49, 64, 81, 100]"
            ]
          },
          "metadata": {},
          "execution_count": 1
        }
      ]
    },
    {
      "cell_type": "code",
      "source": [
        "# Obtener una lista con los números pares del 0 al 20.\n",
        "p=[i for i in range(21) if i % 2 == 0]\n",
        "p\n"
      ],
      "metadata": {
        "colab": {
          "base_uri": "https://localhost:8080/"
        },
        "id": "uUWOf-kWT3SW",
        "outputId": "68b5e208-6d80-4a63-9574-802a92133359"
      },
      "execution_count": null,
      "outputs": [
        {
          "output_type": "execute_result",
          "data": {
            "text/plain": [
              "[0, 2, 4, 6, 8, 10, 12, 14, 16, 18, 20]"
            ]
          },
          "metadata": {},
          "execution_count": 2
        }
      ]
    },
    {
      "cell_type": "code",
      "source": [
        "\n",
        "d=[i*2 for i in range(1,6)]\n",
        "d\n"
      ],
      "metadata": {
        "colab": {
          "base_uri": "https://localhost:8080/"
        },
        "id": "vAxul2YDUKOh",
        "outputId": "26f787e4-65b3-4fa6-f75e-04c7d537f26f"
      },
      "execution_count": null,
      "outputs": [
        {
          "output_type": "execute_result",
          "data": {
            "text/plain": [
              "[2, 4, 6, 8, 10]"
            ]
          },
          "metadata": {},
          "execution_count": 10
        }
      ]
    },
    {
      "cell_type": "code",
      "source": [
        "# De la palabra \"programacion\", obtener solo las vocales.\n",
        "\n",
        "lista=\"programacion\"\n",
        "v=[i for i in lista if i in \"aeiou\"]\n",
        "v"
      ],
      "metadata": {
        "colab": {
          "base_uri": "https://localhost:8080/"
        },
        "id": "YcjWfD7oUVRU",
        "outputId": "df9552f7-3492-45a4-80ec-80f6312ed1e1"
      },
      "execution_count": null,
      "outputs": [
        {
          "output_type": "execute_result",
          "data": {
            "text/plain": [
              "['o', 'a', 'a', 'i', 'o']"
            ]
          },
          "metadata": {},
          "execution_count": 3
        }
      ]
    },
    {
      "cell_type": "code",
      "source": [
        "\n",
        "# Dada la lista [\"python\", \"java\", \"c++\"], obtener otra lista con las palabras en mayúsculas.\n",
        "c_palabras=[\"python\", \"java\", \"c++\"]\n",
        "m=[i.upper() for i in c_palabras]\n",
        "m\n"
      ],
      "metadata": {
        "colab": {
          "base_uri": "https://localhost:8080/"
        },
        "id": "LMErMKIaUe8Z",
        "outputId": "e2a25d0a-f1ec-49a3-be80-2891346877bc"
      },
      "execution_count": null,
      "outputs": [
        {
          "output_type": "execute_result",
          "data": {
            "text/plain": [
              "['PYTHON', 'JAVA', 'C++']"
            ]
          },
          "metadata": {},
          "execution_count": 4
        }
      ]
    },
    {
      "cell_type": "code",
      "source": [
        "par=[i for i in range(1,11) if i%2==0]\n",
        "print(par)\n",
        "impar=[i for i in range(1,10) if i%2!=0]\n",
        "print(impar)"
      ],
      "metadata": {
        "colab": {
          "base_uri": "https://localhost:8080/"
        },
        "id": "EHcVkKUMUnRl",
        "outputId": "25426de3-e28b-4f55-905c-ec274b31ebef"
      },
      "execution_count": null,
      "outputs": [
        {
          "output_type": "stream",
          "name": "stdout",
          "text": [
            "[2, 4, 6, 8, 10]\n",
            "[1, 3, 5, 7, 9]\n"
          ]
        }
      ]
    },
    {
      "cell_type": "code",
      "source": [
        "t=[(i,i**2) for i in range(1,6)]\n",
        "print(t)"
      ],
      "metadata": {
        "colab": {
          "base_uri": "https://localhost:8080/"
        },
        "id": "OABIj1yLU2Ks",
        "outputId": "7b82ea15-d12f-4e6f-95fa-14229354c5e8"
      },
      "execution_count": null,
      "outputs": [
        {
          "output_type": "stream",
          "name": "stdout",
          "text": [
            "[(1, 1), (2, 4), (3, 9), (4, 16), (5, 25)]\n"
          ]
        }
      ]
    },
    {
      "cell_type": "code",
      "source": [
        "letras=[\"a\",\"b\"]\n",
        "numeros=[1,2,3]\n",
        "comb=[(letra, numero) for letra in letras for numero in numeros]\n",
        "print(comb)"
      ],
      "metadata": {
        "colab": {
          "base_uri": "https://localhost:8080/"
        },
        "id": "3QjBuChQVDEg",
        "outputId": "4bd45c43-72b4-4da0-8310-837a14704449"
      },
      "execution_count": null,
      "outputs": [
        {
          "output_type": "stream",
          "name": "stdout",
          "text": [
            "[('a', 1), ('a', 2), ('a', 3), ('b', 1), ('b', 2), ('b', 3)]\n"
          ]
        }
      ]
    },
    {
      "cell_type": "code",
      "source": [
        "lista_palabras=[\"sol\", \"estrella\", \"mar\", \"planeta\"]\n",
        "l4=[i for i in lista_palabras if len(i) > 4 ]\n",
        "l4\n"
      ],
      "metadata": {
        "colab": {
          "base_uri": "https://localhost:8080/"
        },
        "id": "8cQ-P6uiVVkn",
        "outputId": "067ad4c6-ae82-4f9d-9b2c-4efc4fd426af"
      },
      "execution_count": null,
      "outputs": [
        {
          "output_type": "execute_result",
          "data": {
            "text/plain": [
              "['estrella', 'planeta']"
            ]
          },
          "metadata": {},
          "execution_count": 8
        }
      ]
    },
    {
      "cell_type": "code",
      "source": [
        "temperaturas=[8,20,34,38,9,13,31,27,26,7]\n",
        "l3=[(i,\"frío\") if i<26 else (i,\"templado\" if 26 <= i <= 29 else \"caliente\") for i in temperaturas]\n",
        "print(l3)"
      ],
      "metadata": {
        "id": "RauoIT1EVhPw",
        "outputId": "74dc7973-aa3c-487e-dc09-40927085a94b",
        "colab": {
          "base_uri": "https://localhost:8080/"
        }
      },
      "execution_count": null,
      "outputs": [
        {
          "output_type": "stream",
          "name": "stdout",
          "text": [
            "[(8, 'frío'), (20, 'frío'), (34, 'caliente'), (38, 'caliente'), (9, 'frío'), (13, 'frío'), (31, 'caliente'), (27, 'templado'), (26, 'templado'), (7, 'frío')]\n"
          ]
        }
      ]
    }
  ]
}