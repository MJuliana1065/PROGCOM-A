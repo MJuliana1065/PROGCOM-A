{
  "nbformat": 4,
  "nbformat_minor": 0,
  "metadata": {
    "colab": {
      "provenance": [],
      "include_colab_link": true
    },
    "kernelspec": {
      "name": "python3",
      "display_name": "Python 3"
    },
    "language_info": {
      "name": "python"
    }
  },
  "cells": [
    {
      "cell_type": "markdown",
      "metadata": {
        "id": "view-in-github",
        "colab_type": "text"
      },
      "source": [
        "<a href=\"https://colab.research.google.com/github/MJuliana1065/PROGCOM-A/blob/main/CQ8.ipynb\" target=\"_parent\"><img src=\"https://colab.research.google.com/assets/colab-badge.svg\" alt=\"Open In Colab\"/></a>"
      ]
    },
    {
      "cell_type": "markdown",
      "source": [
        "##KeyError\n",
        "Este error se produce cuando la clave no esta agregada al diccionario"
      ],
      "metadata": {
        "id": "d2oHq1r17zKa"
      }
    },
    {
      "cell_type": "code",
      "execution_count": null,
      "metadata": {
        "id": "B-KuR-JhxRgO",
        "colab": {
          "base_uri": "https://localhost:8080/",
          "height": 158
        },
        "outputId": "622f4f9b-956c-4552-a475-d2258c243c6b"
      },
      "outputs": [
        {
          "output_type": "error",
          "ename": "KeyError",
          "evalue": "'perro'",
          "traceback": [
            "\u001b[0;31m---------------------------------------------------------------------------\u001b[0m",
            "\u001b[0;31mKeyError\u001b[0m                                  Traceback (most recent call last)",
            "\u001b[0;32m/tmp/ipython-input-3629981122.py\u001b[0m in \u001b[0;36m<cell line: 0>\u001b[0;34m()\u001b[0m\n\u001b[1;32m      1\u001b[0m \u001b[0mx\u001b[0m\u001b[0;34m=\u001b[0m\u001b[0;34m{\u001b[0m\u001b[0;34m\"flor\"\u001b[0m\u001b[0;34m:\u001b[0m \u001b[0;36m40\u001b[0m \u001b[0;34m,\u001b[0m\u001b[0;34m\"gato\"\u001b[0m\u001b[0;34m:\u001b[0m \u001b[0;36m13\u001b[0m\u001b[0;34m}\u001b[0m\u001b[0;34m\u001b[0m\u001b[0;34m\u001b[0m\u001b[0m\n\u001b[0;32m----> 2\u001b[0;31m \u001b[0mprint\u001b[0m\u001b[0;34m(\u001b[0m\u001b[0mx\u001b[0m\u001b[0;34m[\u001b[0m\u001b[0;34m\"perro\"\u001b[0m\u001b[0;34m]\u001b[0m\u001b[0;34m)\u001b[0m\u001b[0;34m\u001b[0m\u001b[0;34m\u001b[0m\u001b[0m\n\u001b[0m",
            "\u001b[0;31mKeyError\u001b[0m: 'perro'"
          ]
        }
      ],
      "source": [
        "x={\"flor\": 40 ,\"gato\": 13}\n",
        "print(x[\"perro\"])"
      ]
    },
    {
      "cell_type": "code",
      "source": [
        "x={\"flor\": 40 ,\"gato\": 13}\n",
        "print(x.get(\"perro\",\"chale no está\"))"
      ],
      "metadata": {
        "colab": {
          "base_uri": "https://localhost:8080/"
        },
        "id": "npvvYFaI-Lmf",
        "outputId": "76df1606-0b80-42f3-bc90-893397babfca"
      },
      "execution_count": null,
      "outputs": [
        {
          "output_type": "stream",
          "name": "stdout",
          "text": [
            "chale no está\n"
          ]
        }
      ]
    },
    {
      "cell_type": "markdown",
      "source": [
        "##ZeroDivisionError\n",
        "Se genera al dividir un número entre 0.\n",
        "Para ello se verifica que el divisor sea distinto de cero.\n",
        "\n"
      ],
      "metadata": {
        "id": "j95ZPHfnhJje"
      }
    },
    {
      "cell_type": "code",
      "source": [
        "resultado = 10 / 0\n"
      ],
      "metadata": {
        "colab": {
          "base_uri": "https://localhost:8080/",
          "height": 141
        },
        "id": "WT9_l3ZzhMuk",
        "outputId": "df570207-5b87-4e46-cc56-b5f4a32a154a"
      },
      "execution_count": null,
      "outputs": [
        {
          "output_type": "error",
          "ename": "ZeroDivisionError",
          "evalue": "division by zero",
          "traceback": [
            "\u001b[0;31m---------------------------------------------------------------------------\u001b[0m",
            "\u001b[0;31mZeroDivisionError\u001b[0m                         Traceback (most recent call last)",
            "\u001b[0;32m/tmp/ipython-input-1473461131.py\u001b[0m in \u001b[0;36m<cell line: 0>\u001b[0;34m()\u001b[0m\n\u001b[0;32m----> 1\u001b[0;31m \u001b[0mresultado\u001b[0m \u001b[0;34m=\u001b[0m \u001b[0;36m10\u001b[0m \u001b[0;34m/\u001b[0m \u001b[0;36m0\u001b[0m\u001b[0;34m\u001b[0m\u001b[0;34m\u001b[0m\u001b[0m\n\u001b[0m",
            "\u001b[0;31mZeroDivisionError\u001b[0m: division by zero"
          ]
        }
      ]
    },
    {
      "cell_type": "code",
      "source": [
        "d=10\n",
        "if d != 0:\n",
        "    r = 10 / d\n",
        "else:\n",
        "    r = \"No se puede dividir entre 0\"\n",
        "print(r)"
      ],
      "metadata": {
        "colab": {
          "base_uri": "https://localhost:8080/"
        },
        "id": "QRa50GNXhOzj",
        "outputId": "8fd3a355-0bc9-4c4d-b864-1db127fe9d27"
      },
      "execution_count": null,
      "outputs": [
        {
          "output_type": "stream",
          "name": "stdout",
          "text": [
            "1.0\n"
          ]
        }
      ]
    },
    {
      "cell_type": "markdown",
      "source": [
        "##IndexError\n",
        "Ocurre cuando intentas acceder a una posición inexistente en una lista.\n",
        "Para esto se debe omprobar el tamaño de la lista antes de acceder."
      ],
      "metadata": {
        "id": "U7phxme0-c70"
      }
    },
    {
      "cell_type": "code",
      "source": [
        "n = [1,2,3]\n",
        "print(n[5])"
      ],
      "metadata": {
        "colab": {
          "base_uri": "https://localhost:8080/",
          "height": 158
        },
        "id": "8aJ6xcl3-hnD",
        "outputId": "a351298b-1e3e-4e02-897a-80ae403b7435"
      },
      "execution_count": null,
      "outputs": [
        {
          "output_type": "error",
          "ename": "IndexError",
          "evalue": "list index out of range",
          "traceback": [
            "\u001b[0;31m---------------------------------------------------------------------------\u001b[0m",
            "\u001b[0;31mIndexError\u001b[0m                                Traceback (most recent call last)",
            "\u001b[0;32m/tmp/ipython-input-3807601781.py\u001b[0m in \u001b[0;36m<cell line: 0>\u001b[0;34m()\u001b[0m\n\u001b[1;32m      1\u001b[0m \u001b[0mn\u001b[0m \u001b[0;34m=\u001b[0m \u001b[0;34m[\u001b[0m\u001b[0;36m1\u001b[0m\u001b[0;34m,\u001b[0m\u001b[0;36m2\u001b[0m\u001b[0;34m,\u001b[0m\u001b[0;36m3\u001b[0m\u001b[0;34m]\u001b[0m\u001b[0;34m\u001b[0m\u001b[0;34m\u001b[0m\u001b[0m\n\u001b[0;32m----> 2\u001b[0;31m \u001b[0mprint\u001b[0m\u001b[0;34m(\u001b[0m\u001b[0mn\u001b[0m\u001b[0;34m[\u001b[0m\u001b[0;36m5\u001b[0m\u001b[0;34m]\u001b[0m\u001b[0;34m)\u001b[0m\u001b[0;34m\u001b[0m\u001b[0;34m\u001b[0m\u001b[0m\n\u001b[0m",
            "\u001b[0;31mIndexError\u001b[0m: list index out of range"
          ]
        }
      ]
    },
    {
      "cell_type": "code",
      "source": [
        "n = [1,2,3]\n",
        "if len(n) > 3:\n",
        "  print(n[3])\n",
        "else:\n",
        "  print(\"no esta en la lista\")"
      ],
      "metadata": {
        "colab": {
          "base_uri": "https://localhost:8080/"
        },
        "id": "sNqtlNua-w5J",
        "outputId": "7741d125-7928-42da-ab39-0e2f925d0280"
      },
      "execution_count": null,
      "outputs": [
        {
          "output_type": "stream",
          "name": "stdout",
          "text": [
            "no esta en la lista\n"
          ]
        }
      ]
    },
    {
      "cell_type": "markdown",
      "source": [
        "#TypeError\n",
        "El error se produce cuando se usa incorrectamente la integración de variables en un str"
      ],
      "metadata": {
        "id": "2DjvYfGR_Ogb"
      }
    },
    {
      "cell_type": "code",
      "source": [
        "animales = 3\n",
        "print(\"tengo\" + animales + \"salvajes\")"
      ],
      "metadata": {
        "colab": {
          "base_uri": "https://localhost:8080/",
          "height": 158
        },
        "id": "2wAhcH6G_Nd8",
        "outputId": "aab3323c-5d2c-4b0b-a83a-ddc516f0010a"
      },
      "execution_count": null,
      "outputs": [
        {
          "output_type": "error",
          "ename": "TypeError",
          "evalue": "can only concatenate str (not \"int\") to str",
          "traceback": [
            "\u001b[0;31m---------------------------------------------------------------------------\u001b[0m",
            "\u001b[0;31mTypeError\u001b[0m                                 Traceback (most recent call last)",
            "\u001b[0;32m/tmp/ipython-input-3879032008.py\u001b[0m in \u001b[0;36m<cell line: 0>\u001b[0;34m()\u001b[0m\n\u001b[1;32m      1\u001b[0m \u001b[0manimales\u001b[0m \u001b[0;34m=\u001b[0m \u001b[0;36m3\u001b[0m\u001b[0;34m\u001b[0m\u001b[0;34m\u001b[0m\u001b[0m\n\u001b[0;32m----> 2\u001b[0;31m \u001b[0mprint\u001b[0m\u001b[0;34m(\u001b[0m\u001b[0;34m\"tengo\"\u001b[0m \u001b[0;34m+\u001b[0m \u001b[0manimales\u001b[0m \u001b[0;34m+\u001b[0m \u001b[0;34m\"salvajes\"\u001b[0m\u001b[0;34m)\u001b[0m\u001b[0;34m\u001b[0m\u001b[0;34m\u001b[0m\u001b[0m\n\u001b[0m",
            "\u001b[0;31mTypeError\u001b[0m: can only concatenate str (not \"int\") to str"
          ]
        }
      ]
    },
    {
      "cell_type": "code",
      "source": [
        "animales = 3\n",
        "print(f\"tengo {animales} animales salvajes\")"
      ],
      "metadata": {
        "colab": {
          "base_uri": "https://localhost:8080/"
        },
        "id": "BJyW1Dz5_ik2",
        "outputId": "9cec71b0-c0c7-4b12-f55f-b4089c877d93"
      },
      "execution_count": null,
      "outputs": [
        {
          "output_type": "stream",
          "name": "stdout",
          "text": [
            "tengo 3 animales salvajes\n"
          ]
        }
      ]
    },
    {
      "cell_type": "markdown",
      "source": [
        "#NameError\n",
        "El error se produce cuando una variable no esta definida o esta mal escrita"
      ],
      "metadata": {
        "id": "tVILiqwq_pmK"
      }
    },
    {
      "cell_type": "code",
      "source": [
        "print(pepee)"
      ],
      "metadata": {
        "colab": {
          "base_uri": "https://localhost:8080/",
          "height": 141
        },
        "id": "o-k-qIUJ_xjC",
        "outputId": "934db390-de18-4386-9d22-25600df43d1e"
      },
      "execution_count": null,
      "outputs": [
        {
          "output_type": "error",
          "ename": "NameError",
          "evalue": "name 'pepee' is not defined",
          "traceback": [
            "\u001b[0;31m---------------------------------------------------------------------------\u001b[0m",
            "\u001b[0;31mNameError\u001b[0m                                 Traceback (most recent call last)",
            "\u001b[0;32m/tmp/ipython-input-1759042990.py\u001b[0m in \u001b[0;36m<cell line: 0>\u001b[0;34m()\u001b[0m\n\u001b[0;32m----> 1\u001b[0;31m \u001b[0mprint\u001b[0m\u001b[0;34m(\u001b[0m\u001b[0mpepee\u001b[0m\u001b[0;34m)\u001b[0m\u001b[0;34m\u001b[0m\u001b[0;34m\u001b[0m\u001b[0m\n\u001b[0m",
            "\u001b[0;31mNameError\u001b[0m: name 'pepee' is not defined"
          ]
        }
      ]
    },
    {
      "cell_type": "code",
      "source": [
        "pepe=45\n",
        "print(pepe)"
      ],
      "metadata": {
        "colab": {
          "base_uri": "https://localhost:8080/"
        },
        "id": "ccMtyPyK_0Cs",
        "outputId": "113cfd74-9906-4ce8-83e4-d23738aa4630"
      },
      "execution_count": null,
      "outputs": [
        {
          "output_type": "stream",
          "name": "stdout",
          "text": [
            "45\n"
          ]
        }
      ]
    },
    {
      "cell_type": "markdown",
      "source": [
        "##Indentation Error\n",
        "El error se produco cuando no se deja la identación(espacio) despues de dos puntos"
      ],
      "metadata": {
        "id": "xhGS8wxZ_6Wz"
      }
    },
    {
      "cell_type": "code",
      "source": [
        "def ala():\n",
        "print(\"arroz\")\n",
        "ala()"
      ],
      "metadata": {
        "colab": {
          "base_uri": "https://localhost:8080/",
          "height": 106
        },
        "id": "5dKgm_OM_6Bm",
        "outputId": "fdb9f9dd-e9ef-48bb-e1dd-0d6a5b86bf6b"
      },
      "execution_count": null,
      "outputs": [
        {
          "output_type": "error",
          "ename": "IndentationError",
          "evalue": "expected an indented block after function definition on line 1 (ipython-input-1149369538.py, line 2)",
          "traceback": [
            "\u001b[0;36m  File \u001b[0;32m\"/tmp/ipython-input-1149369538.py\"\u001b[0;36m, line \u001b[0;32m2\u001b[0m\n\u001b[0;31m    print(\"arroz\")\u001b[0m\n\u001b[0m    ^\u001b[0m\n\u001b[0;31mIndentationError\u001b[0m\u001b[0;31m:\u001b[0m expected an indented block after function definition on line 1\n"
          ]
        }
      ]
    },
    {
      "cell_type": "code",
      "source": [
        "def ala():\n",
        "  print(\"ala\")\n",
        "ala()"
      ],
      "metadata": {
        "colab": {
          "base_uri": "https://localhost:8080/"
        },
        "id": "kjfcSIM5ADIR",
        "outputId": "8dbb86ca-bb8f-4eff-ea5d-bc659df2ca1c"
      },
      "execution_count": null,
      "outputs": [
        {
          "output_type": "stream",
          "name": "stdout",
          "text": [
            "ala\n"
          ]
        }
      ]
    },
    {
      "cell_type": "markdown",
      "source": [
        "##SyntaxError (Error de sintaxis)\n",
        "Se produce cuando se escribe mal la estructura del código.\n",
        "Para ello se debe revisar la sintaxis y cerrar correctamente comillas, paréntesis, etc.\n"
      ],
      "metadata": {
        "id": "ot_aK7qNfXeh"
      }
    },
    {
      "cell_type": "code",
      "source": [
        "if True\n",
        "  print(\"Hallo\")\n",
        "\n"
      ],
      "metadata": {
        "colab": {
          "base_uri": "https://localhost:8080/",
          "height": 106
        },
        "id": "7TFZ6oonfndO",
        "outputId": "9f6798aa-d8a9-4d3a-987e-141b8f3bb820"
      },
      "execution_count": null,
      "outputs": [
        {
          "output_type": "error",
          "ename": "SyntaxError",
          "evalue": "expected ':' (ipython-input-2889513561.py, line 1)",
          "traceback": [
            "\u001b[0;36m  File \u001b[0;32m\"/tmp/ipython-input-2889513561.py\"\u001b[0;36m, line \u001b[0;32m1\u001b[0m\n\u001b[0;31m    if True\u001b[0m\n\u001b[0m           ^\u001b[0m\n\u001b[0;31mSyntaxError\u001b[0m\u001b[0;31m:\u001b[0m expected ':'\n"
          ]
        }
      ]
    },
    {
      "cell_type": "code",
      "source": [
        "if True :\n",
        "  print(\"hallo\")"
      ],
      "metadata": {
        "colab": {
          "base_uri": "https://localhost:8080/"
        },
        "id": "WvDvhAGRfrML",
        "outputId": "0984b09f-ed24-4721-edc6-a7312a2f044d"
      },
      "execution_count": null,
      "outputs": [
        {
          "output_type": "stream",
          "name": "stdout",
          "text": [
            "hallo\n"
          ]
        }
      ]
    },
    {
      "cell_type": "markdown",
      "source": [
        "##ImportError\n",
        "sucede cuando se intenta importar un módulo que no existe o no está instalado.\n",
        "se soluciona instalando el módulo con pip o verificar el nombre.\n",
        "\n"
      ],
      "metadata": {
        "id": "cNZFkNy8gMKe"
      }
    },
    {
      "cell_type": "code",
      "source": [
        "from math import ragnarok"
      ],
      "metadata": {
        "colab": {
          "base_uri": "https://localhost:8080/",
          "height": 314
        },
        "id": "btTgLMjkgTaa",
        "outputId": "f124175b-563f-42ea-ea93-af5296c56710"
      },
      "execution_count": null,
      "outputs": [
        {
          "output_type": "error",
          "ename": "ImportError",
          "evalue": "cannot import name 'ragnarok' from 'math' (unknown location)",
          "traceback": [
            "\u001b[0;31m---------------------------------------------------------------------------\u001b[0m",
            "\u001b[0;31mImportError\u001b[0m                               Traceback (most recent call last)",
            "\u001b[0;32m/tmp/ipython-input-1997189692.py\u001b[0m in \u001b[0;36m<cell line: 0>\u001b[0;34m()\u001b[0m\n\u001b[0;32m----> 1\u001b[0;31m \u001b[0;32mfrom\u001b[0m \u001b[0mmath\u001b[0m \u001b[0;32mimport\u001b[0m \u001b[0mragnarok\u001b[0m\u001b[0;34m\u001b[0m\u001b[0;34m\u001b[0m\u001b[0m\n\u001b[0m",
            "\u001b[0;31mImportError\u001b[0m: cannot import name 'ragnarok' from 'math' (unknown location)",
            "",
            "\u001b[0;31m---------------------------------------------------------------------------\u001b[0;32m\nNOTE: If your import is failing due to a missing package, you can\nmanually install dependencies using either !pip or !apt.\n\nTo view examples of installing some common dependencies, click the\n\"Open Examples\" button below.\n\u001b[0;31m---------------------------------------------------------------------------\u001b[0m\n"
          ],
          "errorDetails": {
            "actions": [
              {
                "action": "open_url",
                "actionText": "Open Examples",
                "url": "/notebooks/snippets/importing_libraries.ipynb"
              }
            ]
          }
        }
      ]
    },
    {
      "cell_type": "code",
      "source": [
        "import math\n",
        "print(math.sqrt(64))"
      ],
      "metadata": {
        "colab": {
          "base_uri": "https://localhost:8080/"
        },
        "id": "KXspBRLagZvQ",
        "outputId": "3cbe25c3-6c7e-4077-e67e-1edc9181e1bc"
      },
      "execution_count": null,
      "outputs": [
        {
          "output_type": "stream",
          "name": "stdout",
          "text": [
            "8.0\n"
          ]
        }
      ]
    },
    {
      "cell_type": "markdown",
      "source": [
        "##AttributeError\n",
        "En Python, se produce un AttributeError cuando se intenta utilizar un atributo que no existe en el objeto o llamar a un método que no existe en el objeto sobre el que se llama. Un AttributeError muestra que un objeto no tiene un atributo o método al que se está llamando en él."
      ],
      "metadata": {
        "id": "fY5blc1BPG0-"
      }
    },
    {
      "cell_type": "code",
      "source": [
        "num = 1445\n",
        "cap = num.capitalize()\n",
        "print(cap)"
      ],
      "metadata": {
        "id": "v37s1ftmPKZN"
      },
      "execution_count": null,
      "outputs": []
    },
    {
      "cell_type": "markdown",
      "source": [
        "##ValueError\n",
        "Se trata de una excepción que se produce cuando una función en Python recibe un valor del tipo de datos correcto pero el valor es un valor inapropiado."
      ],
      "metadata": {
        "id": "Ff66MrUhPNAu"
      }
    },
    {
      "cell_type": "code",
      "source": [
        "importar math\n",
        "num = -64\n",
        "raíz = math.sqrt(num)\n",
        "print(raíz)"
      ],
      "metadata": {
        "id": "1DsDlx-lPfYl"
      },
      "execution_count": null,
      "outputs": []
    },
    {
      "cell_type": "code",
      "source": [
        "##inicio ilegal de una expresión\n",
        "Existen numerosas razones por las que se produce un error de \"inicio de expresión ilegal\". Resulta ser uno de los mensajes de error menos útiles. Algunos desarrolladores afirman que se debe a un código incorrecto."
      ],
      "metadata": {
        "id": "kB-cpF-VPh-F"
      },
      "execution_count": null,
      "outputs": []
    },
    {
      "cell_type": "code",
      "source": [
        "} // ADD IT HERE\n",
        "\n",
        "       public void newShape(String shape) {\n",
        "\n",
        "        switch (shape) {\n",
        "            case \"Line\":\n",
        "                Shape line = new Line(startX, startY, endX, endY);\n",
        "            shapes.add(line);\n",
        "            break;\n",
        "                case \"Oval\":\n",
        "            Shape oval = new Oval(startX, startY, endX, endY);\n",
        "            shapes.add(oval);\n",
        "            break;\n",
        "            case \"Rectangle\":\n",
        "            Shape rectangle = new Rectangle(startX, startY, endX, endY);\n",
        "            shapes.add(rectangle);\n",
        "            break;\n",
        "            default:\n",
        "            System.out.println(\"ERROR. Check logic.\");\n",
        "        }\n",
        "        }\n",
        "    } // REMOVE IT FROM HERE\n",
        "    }"
      ],
      "metadata": {
        "colab": {
          "base_uri": "https://localhost:8080/",
          "height": 106
        },
        "id": "2GBVy4FOPtPu",
        "outputId": "a3a4490d-b29a-4088-b62d-255846c0ca1d"
      },
      "execution_count": 1,
      "outputs": [
        {
          "output_type": "error",
          "ename": "SyntaxError",
          "evalue": "unmatched '}' (ipython-input-3909266282.py, line 1)",
          "traceback": [
            "\u001b[0;36m  File \u001b[0;32m\"/tmp/ipython-input-3909266282.py\"\u001b[0;36m, line \u001b[0;32m1\u001b[0m\n\u001b[0;31m    } // ADD IT HERE\u001b[0m\n\u001b[0m    ^\u001b[0m\n\u001b[0;31mSyntaxError\u001b[0m\u001b[0;31m:\u001b[0m unmatched '}'\n"
          ]
        }
      ]
    },
    {
      "cell_type": "markdown",
      "source": [
        "##tipos incompatibles\n",
        "Tipos incompatibles es un error lógico que ocurre cuando una sentencia de asignación intenta emparejar una variable con un tipo incompatible.\n"
      ],
      "metadata": {
        "id": "Hf7-4NXhPwVo"
      }
    },
    {
      "cell_type": "code",
      "source": [
        "test.java:78: error: incompatible types\n",
        "return stringBuilder.toString();\n",
        "                             ^\n",
        "required: int\n",
        "found:    String\n",
        "1 error"
      ],
      "metadata": {
        "colab": {
          "base_uri": "https://localhost:8080/",
          "height": 106
        },
        "id": "pHCl9NvpP6ol",
        "outputId": "8def1f0b-7c2e-492a-c41a-cc83736645bf"
      },
      "execution_count": 2,
      "outputs": [
        {
          "output_type": "error",
          "ename": "SyntaxError",
          "evalue": "invalid syntax (ipython-input-1149436092.py, line 1)",
          "traceback": [
            "\u001b[0;36m  File \u001b[0;32m\"/tmp/ipython-input-1149436092.py\"\u001b[0;36m, line \u001b[0;32m1\u001b[0m\n\u001b[0;31m    test.java:78: error: incompatible types\u001b[0m\n\u001b[0m                ^\u001b[0m\n\u001b[0;31mSyntaxError\u001b[0m\u001b[0;31m:\u001b[0m invalid syntax\n"
          ]
        }
      ]
    },
    {
      "cell_type": "markdown",
      "source": [
        "##Declaración de retorno faltante\n",
        "El mensaje \"falta la instrucción de retorno\" se produce cuando un método no tiene una instrucción de retorno. Cada método que devuelve un valor (un tipo distinto de void) debe tener una instrucción que devuelva literalmente ese valor para que pueda invocarse fuera del método."
      ],
      "metadata": {
        "id": "9OkWp6RrP_Ye"
      }
    },
    {
      "cell_type": "code",
      "source": [
        "public String[] OpenFile() throws IOException {\n",
        "\n",
        "    Map<String, Double> map = new HashMap();\n",
        "\n",
        "    FileReader fr = new FileReader(\"money.txt\");\n",
        "    BufferedReader br = new BufferedReader(fr);\n",
        "\n",
        "\n",
        "    try{\n",
        "        while (br.ready()){\n",
        "            String str = br.readLine();\n",
        "            String[] list = str.split(\" \");\n",
        "            System.out.println(list);\n",
        "        }\n",
        "    }   catch (IOException e){\n",
        "        System.err.println(\"Error - IOException!\");\n",
        "    }\n",
        "}"
      ],
      "metadata": {
        "colab": {
          "base_uri": "https://localhost:8080/",
          "height": 106
        },
        "id": "FaIMBQr_QCb1",
        "outputId": "db12fbd4-1cd6-42d1-ae88-eabe09cb76bd"
      },
      "execution_count": 3,
      "outputs": [
        {
          "output_type": "error",
          "ename": "SyntaxError",
          "evalue": "invalid syntax (ipython-input-3396129320.py, line 1)",
          "traceback": [
            "\u001b[0;36m  File \u001b[0;32m\"/tmp/ipython-input-3396129320.py\"\u001b[0;36m, line \u001b[0;32m1\u001b[0m\n\u001b[0;31m    public String[] OpenFile() throws IOException {\u001b[0m\n\u001b[0m           ^\u001b[0m\n\u001b[0;31mSyntaxError\u001b[0m\u001b[0;31m:\u001b[0m invalid syntax\n"
          ]
        }
      ]
    }
  ]
}