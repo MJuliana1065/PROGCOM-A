{
  "nbformat": 4,
  "nbformat_minor": 0,
  "metadata": {
    "colab": {
      "provenance": [],
      "authorship_tag": "ABX9TyP3M/dpH4y7ET4v5tU76H84",
      "include_colab_link": true
    },
    "kernelspec": {
      "name": "python3",
      "display_name": "Python 3"
    },
    "language_info": {
      "name": "python"
    }
  },
  "cells": [
    {
      "cell_type": "markdown",
      "metadata": {
        "id": "view-in-github",
        "colab_type": "text"
      },
      "source": [
        "<a href=\"https://colab.research.google.com/github/MJuliana1065/PROGCOM-A/blob/main/CLASE_4.ipynb\" target=\"_parent\"><img src=\"https://colab.research.google.com/assets/colab-badge.svg\" alt=\"Open In Colab\"/></a>"
      ]
    },
    {
      "cell_type": "code",
      "execution_count": null,
      "metadata": {
        "id": "M8LOyJVbC8sY"
      },
      "outputs": [],
      "source": [
        "#LISTAS\n",
        " Conjunto de datos\n"
      ]
    },
    {
      "cell_type": "markdown",
      "source": [
        "#LISTAS\n",
        "\n",
        "1. Conjunto de datod\n",
        "2. Es mutable. (5000 xp)\n",
        "3. Tienen indexación\n",
        "\n"
      ],
      "metadata": {
        "id": "PjK84l9KDEBa"
      }
    },
    {
      "cell_type": "code",
      "source": [
        "lista=[\"Maria\",4,True,\"hola\"]\n",
        "lista[0]"
      ],
      "metadata": {
        "colab": {
          "base_uri": "https://localhost:8080/",
          "height": 35
        },
        "id": "Yz4p0TcuDP3T",
        "outputId": "0abab884-5abf-49a4-e446-c6236aa3af5e"
      },
      "execution_count": 1,
      "outputs": [
        {
          "output_type": "execute_result",
          "data": {
            "text/plain": [
              "'Maria'"
            ],
            "application/vnd.google.colaboratory.intrinsic+json": {
              "type": "string"
            }
          },
          "metadata": {},
          "execution_count": 1
        }
      ]
    },
    {
      "cell_type": "markdown",
      "source": [
        "4. son ordenadas\n",
        "\n",
        "Forma generica\n",
        "```\n",
        "nombre_de_la:lista=[e1,e2,e3,e4..en]\n",
        "```\n",
        "\n"
      ],
      "metadata": {
        "id": "kcFqOLlZD2M6"
      }
    },
    {
      "cell_type": "code",
      "source": [
        "lista[5]"
      ],
      "metadata": {
        "colab": {
          "base_uri": "https://localhost:8080/",
          "height": 141
        },
        "id": "sMm-WVz3FJWo",
        "outputId": "c5b48cfc-3beb-474f-a61d-601d353099cd"
      },
      "execution_count": 2,
      "outputs": [
        {
          "output_type": "error",
          "ename": "IndexError",
          "evalue": "list index out of range",
          "traceback": [
            "\u001b[0;31m---------------------------------------------------------------------------\u001b[0m",
            "\u001b[0;31mIndexError\u001b[0m                                Traceback (most recent call last)",
            "\u001b[0;32m/tmp/ipython-input-2920324198.py\u001b[0m in \u001b[0;36m<cell line: 0>\u001b[0;34m()\u001b[0m\n\u001b[0;32m----> 1\u001b[0;31m \u001b[0mlista\u001b[0m\u001b[0;34m[\u001b[0m\u001b[0;36m5\u001b[0m\u001b[0;34m]\u001b[0m\u001b[0;34m\u001b[0m\u001b[0;34m\u001b[0m\u001b[0m\n\u001b[0m",
            "\u001b[0;31mIndexError\u001b[0m: list index out of range"
          ]
        }
      ]
    },
    {
      "cell_type": "code",
      "source": [
        "#obteniendo el ultimo elemento de la lista\n",
        "lista[len(lista)-1]"
      ],
      "metadata": {
        "colab": {
          "base_uri": "https://localhost:8080/",
          "height": 35
        },
        "id": "SIUjZt2XFJvR",
        "outputId": "bb206bd3-d48f-49fe-d2c4-cc1e3367fd21"
      },
      "execution_count": 3,
      "outputs": [
        {
          "output_type": "execute_result",
          "data": {
            "text/plain": [
              "'hola'"
            ],
            "application/vnd.google.colaboratory.intrinsic+json": {
              "type": "string"
            }
          },
          "metadata": {},
          "execution_count": 3
        }
      ]
    },
    {
      "cell_type": "code",
      "source": [
        "lista[-1]"
      ],
      "metadata": {
        "colab": {
          "base_uri": "https://localhost:8080/",
          "height": 35
        },
        "id": "ZPuOsC_IGxhY",
        "outputId": "c73826a9-069e-499c-9753-e5d5878574ac"
      },
      "execution_count": 4,
      "outputs": [
        {
          "output_type": "execute_result",
          "data": {
            "text/plain": [
              "'hola'"
            ],
            "application/vnd.google.colaboratory.intrinsic+json": {
              "type": "string"
            }
          },
          "metadata": {},
          "execution_count": 4
        }
      ]
    },
    {
      "cell_type": "code",
      "source": [
        "lista[:2]"
      ],
      "metadata": {
        "colab": {
          "base_uri": "https://localhost:8080/"
        },
        "id": "gAVwoAVxGzor",
        "outputId": "6d7755ea-53c6-4941-8d97-6099725a6f6b"
      },
      "execution_count": 5,
      "outputs": [
        {
          "output_type": "execute_result",
          "data": {
            "text/plain": [
              "['Maria', 4]"
            ]
          },
          "metadata": {},
          "execution_count": 5
        }
      ]
    },
    {
      "cell_type": "code",
      "source": [
        "lista[1:4]"
      ],
      "metadata": {
        "colab": {
          "base_uri": "https://localhost:8080/"
        },
        "id": "oLYts-R0G2OA",
        "outputId": "0c11d76b-e281-49f4-a5f3-b368bb537231"
      },
      "execution_count": 6,
      "outputs": [
        {
          "output_type": "execute_result",
          "data": {
            "text/plain": [
              "[4, True, 'hola']"
            ]
          },
          "metadata": {},
          "execution_count": 6
        }
      ]
    },
    {
      "cell_type": "code",
      "source": [
        "for i in lista:\n",
        "# va a iterar 4 veces, i va a tomar por vez el elemento d la lista\n",
        "print(i)"
      ],
      "metadata": {
        "id": "5_6endDCG-0p"
      },
      "execution_count": null,
      "outputs": []
    },
    {
      "cell_type": "code",
      "source": [
        "lista de extension:\n",
        "num1=[1,2,3,4,5,6,7,8,9,10]\n",
        "#lista de comprension:\n",
        "nume2=list(range(1,11))\n",
        "ptiye(num2)"
      ],
      "metadata": {
        "id": "gN32JJHKHY93"
      },
      "execution_count": null,
      "outputs": []
    },
    {
      "cell_type": "code",
      "source": [
        "## por compresion\n",
        "\n",
        "nombre_lista=[expresion for item in iterable]\n",
        "\n",
        "donde:\n",
        "2{}"
      ],
      "metadata": {
        "id": "x_8hgm-bIjT2"
      },
      "execution_count": null,
      "outputs": []
    },
    {
      "cell_type": "code",
      "source": [
        "#lista con los pares num2\n",
        "pare"
      ],
      "metadata": {
        "id": "E0FDIVZcL9pj"
      },
      "execution_count": null,
      "outputs": []
    },
    {
      "cell_type": "code",
      "source": [
        "#clasificar som mi,rtp rd podoyobp p ngrtsivo\n",
        "numeros=[n,\"positivo \"if n>0 else, (n,\"negativo\") fpr n n numeros 4 ista2]"
      ],
      "metadata": {
        "id": "V1jujmtqMMLz"
      },
      "execution_count": null,
      "outputs": []
    },
    {
      "cell_type": "code",
      "source": [
        "#quiero obtener la inicial de nombres y ponerlo en mayuscula\n",
        "\n",
        "nombres=[\"camilo\",\"anderson\",\"joan\"\n",
        "lista3=[x[0].upper() for x in nombres]]\n",
        "lista3"
      ],
      "metadata": {
        "id": "atEV0cVKQesZ"
      },
      "execution_count": null,
      "outputs": []
    }
  ]
}