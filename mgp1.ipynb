{
  "nbformat": 4,
  "nbformat_minor": 0,
  "metadata": {
    "colab": {
      "provenance": [],
      "authorship_tag": "ABX9TyPcppH5iqzQYRzDDQEmhD1Q",
      "include_colab_link": true
    },
    "kernelspec": {
      "name": "python3",
      "display_name": "Python 3"
    },
    "language_info": {
      "name": "python"
    }
  },
  "cells": [
    {
      "cell_type": "markdown",
      "metadata": {
        "id": "view-in-github",
        "colab_type": "text"
      },
      "source": [
        "<a href=\"https://colab.research.google.com/github/MJuliana1065/PROGCOM-A/blob/main/mgp1.ipynb\" target=\"_parent\"><img src=\"https://colab.research.google.com/assets/colab-badge.svg\" alt=\"Open In Colab\"/></a>"
      ]
    },
    {
      "cell_type": "code",
      "execution_count": null,
      "metadata": {
        "id": "B88-QIJRREyF",
        "colab": {
          "base_uri": "https://localhost:8080/"
        },
        "outputId": "d9f55c41-ddc4-4006-fa3a-c38d40a49f76"
      },
      "outputs": [
        {
          "output_type": "stream",
          "name": "stdout",
          "text": [
            " Bienvenido al juego Piedra, Papel, Tijera, Lagarto, Spock\n",
            "Escribe tu elección: piedra, papel, tijera, lagarto o spock\n"
          ]
        }
      ],
      "source": [
        "import random\n",
        "\n",
        "opciones = [\"piedra\", \"papel\", \"tijera\", \"lagarto\", \"spock\"]\n",
        "reglas = {\n",
        "    \"tijera\": [\"papel\", \"lagarto\"],\n",
        "    \"papel\": [\"piedra\", \"spock\"],\n",
        "    \"piedra\": [\"tijera\", \"lagarto\"],\n",
        "    \"lagarto\": [\"spock\", \"papel\"],\n",
        "    \"spock\": [\"tijera\", \"piedra\"]\n",
        "}\n",
        "\n",
        "print(\" Bienvenido al juego Piedra, Papel, Tijera, Lagarto, Spock\")\n",
        "print(\"Escribe tu elección: piedra, papel, tijera, lagarto o spock\")\n",
        "\n",
        "\n",
        "jugador = input(\"Tu elección: \").lower()\n",
        "\n",
        "\n",
        "if jugador not in opciones:\n",
        "    print(\" Opción inválida. Intenta de nuevo.\")\n",
        "else:\n",
        "    # Elección del PC\n",
        "    pc = random.choice(opciones)\n",
        "    print(f\" La computadora eligió: {pc}\")\n",
        "\n",
        "    # Determinar el resultado\n",
        "    if jugador == pc:\n",
        "        print(\"¡Empate!\")\n",
        "    elif pc in reglas[jugador]:\n",
        "        print(\"¡Ganaste!\")\n",
        "    else:\n",
        "        print(\"Perdiste.\")\n"
      ]
    }
  ]
}