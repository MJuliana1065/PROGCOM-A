{
  "nbformat": 4,
  "nbformat_minor": 0,
  "metadata": {
    "colab": {
      "provenance": [],
      "authorship_tag": "ABX9TyMbA9Li5bFBdPn3wsa09zt6",
      "include_colab_link": true
    },
    "kernelspec": {
      "name": "python3",
      "display_name": "Python 3"
    },
    "language_info": {
      "name": "python"
    }
  },
  "cells": [
    {
      "cell_type": "markdown",
      "metadata": {
        "id": "view-in-github",
        "colab_type": "text"
      },
      "source": [
        "<a href=\"https://colab.research.google.com/github/MJuliana1065/PROGCOM-A/blob/main/clase_1_Estructuras_de_selecci%C3%B3n.ipynb\" target=\"_parent\"><img src=\"https://colab.research.google.com/assets/colab-badge.svg\" alt=\"Open In Colab\"/></a>"
      ]
    },
    {
      "cell_type": "markdown",
      "source": [
        "##Estructuras de selección\n",
        "Se emplean cuando se debe evaluar una condición y wata da un valor de verdad (V) o (F)"
      ],
      "metadata": {
        "id": "Mlpqwn1YuKHC"
      }
    },
    {
      "cell_type": "markdown",
      "source": [
        "##Estructura if-else\n",
        "\n",
        "\n",
        "```\n",
        "if (condición):\n",
        "  entro aquí, si la condición es V\n",
        "else:\n",
        "  entro aquí, si la condición es F.\n",
        "```\n",
        "\n"
      ],
      "metadata": {
        "id": "KHad7comuMWC"
      }
    },
    {
      "cell_type": "code",
      "source": [
        "#Escribe un programa que reciba un número e indique si es positivo\n",
        "#input: todo lo que entra lo convierte en texto, guarda la variable y lo imprime\n",
        "\n",
        "n=int(input( \" Ingresa un número \"))\n",
        "if n>0:\n",
        "  print(f\"{n} es un número positivo\")\n",
        "else:\n",
        "  print(f\"{n} NO es un número positivo\")"
      ],
      "metadata": {
        "colab": {
          "base_uri": "https://localhost:8080/"
        },
        "id": "ska3MYj_uoZK",
        "outputId": "308dfba0-635d-40e3-a027-b9bca42e767a"
      },
      "execution_count": 22,
      "outputs": [
        {
          "output_type": "stream",
          "name": "stdout",
          "text": [
            " Ingresa un número 5\n",
            "5 es un número positivo\n"
          ]
        }
      ]
    },
    {
      "cell_type": "markdown",
      "source": [
        "##selección multiple if-elif-else\n",
        "\n",
        "\n",
        "\n",
        "```\n",
        "if (condición):\n",
        "  si se cumple condición 1, entro aquí\n",
        "elif (condición2):\n",
        "  si no se cumple la condición 1,\n",
        "  pero se cumple condición 2,\n",
        "  entro aquí\n",
        "else:\n",
        "  Si no se cumple ninguna de las anteriores\n",
        "```\n",
        "\n"
      ],
      "metadata": {
        "id": "gHRvH54f0SwE"
      }
    },
    {
      "cell_type": "code",
      "source": [
        "if n>0:print(f\"{n} es un número positivo\")\n",
        "elif n<0:print(f\"{n} NO es un numero positivo\")\n",
        "else:print(f\"{n} es 0\")"
      ],
      "metadata": {
        "colab": {
          "base_uri": "https://localhost:8080/"
        },
        "id": "UNMdpeFZ1H2E",
        "outputId": "61f1951c-4982-4554-c172-763c6a6bb1d2"
      },
      "execution_count": 23,
      "outputs": [
        {
          "output_type": "stream",
          "name": "stdout",
          "text": [
            "5 es un número positivo\n"
          ]
        }
      ]
    },
    {
      "cell_type": "markdown",
      "source": [
        "##Operador terniario\n",
        "se usa cuando hay una condición a evaluar siempre y se desea resolver en una línea codigo\n",
        "\n",
        "\n",
        "```\n",
        "(Valor de verdad V) if (condición) else (Valor de verdad F)\n",
        "```\n",
        "\n"
      ],
      "metadata": {
        "id": "GL5fkv8W2T2S"
      }
    },
    {
      "cell_type": "code",
      "source": [
        "print(f\"{n} es un número positivo\") if n>=0 else print(f\"{n} NO es un número positivo \")"
      ],
      "metadata": {
        "colab": {
          "base_uri": "https://localhost:8080/"
        },
        "id": "_cHK_iBI3X6p",
        "outputId": "1bb7b319-2910-424c-a446-fbb98ea7b794"
      },
      "execution_count": 24,
      "outputs": [
        {
          "output_type": "stream",
          "name": "stdout",
          "text": [
            "5 es un número positivo\n"
          ]
        }
      ]
    },
    {
      "cell_type": "code",
      "source": [
        "a=f\"{n} es un número positivo\" if n>=0 else f\"{n} NO es un número positivo\"\n",
        "print(a)"
      ],
      "metadata": {
        "colab": {
          "base_uri": "https://localhost:8080/"
        },
        "id": "uRZD5cym39dA",
        "outputId": "56e87566-4a63-42d7-b70e-6e9ed15b4752"
      },
      "execution_count": 28,
      "outputs": [
        {
          "output_type": "stream",
          "name": "stdout",
          "text": [
            "5 es un número positivo\n"
          ]
        }
      ]
    },
    {
      "cell_type": "code",
      "source": [
        "#Estructura if-else\n",
        "#2\tEscribe un programa que reciba una edad y determine si la persona es mayor de edad.\n",
        "\n",
        "n=int(input(\" ingresa una edad \"))\n",
        "if n>=18:\n",
        "  print(\" es mayor de edad\")\n",
        "else:\n",
        "  n<=17\n",
        "  print(\" es menor de edad\")"
      ],
      "metadata": {
        "colab": {
          "base_uri": "https://localhost:8080/"
        },
        "id": "jjoU9tgQ7wS1",
        "outputId": "f3e9f335-e846-4f4d-c4a9-cea0529d7ef9"
      },
      "execution_count": 33,
      "outputs": [
        {
          "output_type": "stream",
          "name": "stdout",
          "text": [
            " ingresa una edad 5\n",
            " es menor de edad\n"
          ]
        }
      ]
    },
    {
      "cell_type": "code",
      "source": [
        "#selección multiple if-elif-else\n",
        "#2\tEscribe un programa que reciba una edad y determine si la persona es mayor de edad.\n",
        "\n",
        "if n>=18:print(f\"{n} es mayor de edad\")\n",
        "elif n<=17:print(f\"{n} NO es mayor de edad\")\n",
        "else:print(f\"NO es mayor de edad\")"
      ],
      "metadata": {
        "colab": {
          "base_uri": "https://localhost:8080/"
        },
        "id": "CfeqAaVo8Lb1",
        "outputId": "e42fe9c1-7d07-47c5-fd19-f83689140816"
      },
      "execution_count": 36,
      "outputs": [
        {
          "output_type": "stream",
          "name": "stdout",
          "text": [
            "5 NO es mayor de edad\n"
          ]
        }
      ]
    },
    {
      "cell_type": "code",
      "source": [
        "#Operador terniario\n",
        "print(f\"{n} Es mayor de edad\") if n>=18 else print(f\"{n} NO es mayor de edad\")"
      ],
      "metadata": {
        "colab": {
          "base_uri": "https://localhost:8080/"
        },
        "id": "FIZuh-zo8rEU",
        "outputId": "7ab2d5a7-9832-4239-cf52-61cc47a7ffe3"
      },
      "execution_count": 35,
      "outputs": [
        {
          "output_type": "stream",
          "name": "stdout",
          "text": [
            "5 NO es mayor de edad\n"
          ]
        }
      ]
    },
    {
      "cell_type": "code",
      "source": [
        "#3\tEscribe un programa que reciba dos números e imprima el mayor.\n",
        "n1=int(input(\"ingresa un numero\"))\n",
        "n2=int(input(\"ingresa otro numero\"))\n",
        "if n1>n2:\n",
        "  print(n1, \"es mayor\")\n",
        "else:\n",
        "  n2>n1\n",
        "  print(n2, \"es mayor\")"
      ],
      "metadata": {
        "colab": {
          "base_uri": "https://localhost:8080/"
        },
        "id": "o2TGy9g6946D",
        "outputId": "9c02f441-4058-4e4e-c154-bd55a796a14a"
      },
      "execution_count": 37,
      "outputs": [
        {
          "output_type": "stream",
          "name": "stdout",
          "text": [
            "ingresa un numero4\n",
            "ingresa otro numero5\n",
            "5 es mayor\n"
          ]
        }
      ]
    },
    {
      "cell_type": "code",
      "source": [
        "if n1>n2:print(f\"{n} es mayor\")\n",
        "elif n2>n1:print(f\"{n} es mayor\")\n",
        "else:print(f\"NO es mayor\")"
      ],
      "metadata": {
        "colab": {
          "base_uri": "https://localhost:8080/"
        },
        "id": "YA7s0pLD-fBq",
        "outputId": "33242068-f961-484b-ab06-ae4776916aa8"
      },
      "execution_count": 39,
      "outputs": [
        {
          "output_type": "stream",
          "name": "stdout",
          "text": [
            "5 es mayor\n"
          ]
        }
      ]
    },
    {
      "cell_type": "code",
      "source": [
        "print(f\"{n} es mayor\") if n1>n2 else print(f\"{n} es mayor \")"
      ],
      "metadata": {
        "colab": {
          "base_uri": "https://localhost:8080/"
        },
        "id": "L5m4mAt7_F67",
        "outputId": "cd5ad0c6-023b-4b40-8a24-93129136f5c9"
      },
      "execution_count": 40,
      "outputs": [
        {
          "output_type": "stream",
          "name": "stdout",
          "text": [
            "5 es mayor \n"
          ]
        }
      ]
    },
    {
      "cell_type": "code",
      "source": [
        "#4\tEscribe un programa que reciba una calificación (0-100) e indique si es Aprobado (>=60) o Reprobado\n",
        "n=int(input(\"Ingrese su calificacion\"))\n",
        "if n>=60:\n",
        "  print(f\"{n} aprobo\")\n",
        "else:\n",
        "  print(f\"{n} NO aprobo\")\n"
      ],
      "metadata": {
        "colab": {
          "base_uri": "https://localhost:8080/"
        },
        "id": "zB_RofnJ_xLB",
        "outputId": "a57328a9-399d-4894-c639-062c103008c0"
      },
      "execution_count": 41,
      "outputs": [
        {
          "output_type": "stream",
          "name": "stdout",
          "text": [
            "Ingrese su calificacion56\n",
            "56 No aprobo\n"
          ]
        }
      ]
    },
    {
      "cell_type": "code",
      "source": [
        "if n>=60:print(f\"{n} aprobo\")\n",
        "elif n<=60:print(f\"{n} NO aprobo\")\n",
        "else:print(f\"{n} No aprobo\")\n"
      ],
      "metadata": {
        "colab": {
          "base_uri": "https://localhost:8080/"
        },
        "id": "bU6e_VEABRqg",
        "outputId": "48a5454e-2cf4-4dac-ec5a-e558d94f66e2"
      },
      "execution_count": 42,
      "outputs": [
        {
          "output_type": "stream",
          "name": "stdout",
          "text": [
            "56 NO aprobo\n"
          ]
        }
      ]
    },
    {
      "cell_type": "code",
      "source": [
        "print (f\"{n} Aprobo\") if n>=60 else print(f\"{n} No aprobo\")"
      ],
      "metadata": {
        "colab": {
          "base_uri": "https://localhost:8080/"
        },
        "id": "phLnVOqgBwvX",
        "outputId": "c7be11c7-6d98-4c08-815f-3803b917d75c"
      },
      "execution_count": 46,
      "outputs": [
        {
          "output_type": "stream",
          "name": "stdout",
          "text": [
            "56 No aprobo\n"
          ]
        }
      ]
    },
    {
      "cell_type": "code",
      "source": [
        "#5\tEscribe un programa que determine si un número es par o impar.\n",
        "\n",
        "n=int(input(\" Ingrese un número \"))\n",
        "if n%2==0:\n",
        " print (f\"{n} es un número par\")\n",
        "else:\n",
        " print (n, \"es un número impar\")"
      ],
      "metadata": {
        "colab": {
          "base_uri": "https://localhost:8080/"
        },
        "id": "2yJld0ivCA33",
        "outputId": "c5067ecf-7abe-4afe-8a41-22f8e1e9f4ff"
      },
      "execution_count": 49,
      "outputs": [
        {
          "output_type": "stream",
          "name": "stdout",
          "text": [
            " Ingrese un número 7\n",
            "7 es un número impar\n"
          ]
        }
      ]
    },
    {
      "cell_type": "code",
      "source": [
        "if n==0:print(n, \"es 0\")\n",
        "elif n%2==0:print (f\"{n} es un número par\")\n",
        "else:print(n, \"es un número impar\")"
      ],
      "metadata": {
        "colab": {
          "base_uri": "https://localhost:8080/"
        },
        "id": "UTDraiaYCKdf",
        "outputId": "fe4126d0-de92-4b82-ec89-494fca86403e"
      },
      "execution_count": 53,
      "outputs": [
        {
          "output_type": "stream",
          "name": "stdout",
          "text": [
            "7 es un número impar\n"
          ]
        }
      ]
    },
    {
      "cell_type": "code",
      "source": [
        "print(f\"{n} es un número par\") if n%2==0 else print(f\"{n} es un número impar\")"
      ],
      "metadata": {
        "colab": {
          "base_uri": "https://localhost:8080/"
        },
        "id": "zfQAxYLzCoMn",
        "outputId": "25feb4bd-0f36-4e5e-b71e-af0157cef257"
      },
      "execution_count": 51,
      "outputs": [
        {
          "output_type": "stream",
          "name": "stdout",
          "text": [
            "7 es un número impar\n"
          ]
        }
      ]
    },
    {
      "cell_type": "code",
      "source": [
        "#6\tEscribe un programa que reciba tres números e imprima el mayor de los tres.\n",
        "\n",
        "n=int(input(\"Ingrese un número \"))\n",
        "m=int(input(\"Ingrese un número \"))\n",
        "p=int(input(\"Ingrese un número \"))\n",
        "if n>m and n>p:\n",
        " print (f\"{n} es mayor\")\n",
        "elif m>n and m>p:\n",
        "  print(f\"{m} es mayor\")\n",
        "else:\n",
        " print(p, \"es mayor\")"
      ],
      "metadata": {
        "colab": {
          "base_uri": "https://localhost:8080/"
        },
        "id": "eV_ErN68Cy6G",
        "outputId": "7761ed49-a78c-4d02-bf20-a0a42a74da14"
      },
      "execution_count": 62,
      "outputs": [
        {
          "output_type": "stream",
          "name": "stdout",
          "text": [
            "Ingrese un número 2\n",
            "Ingrese un número 3\n",
            "Ingrese un número 4\n",
            "4 es mayor\n"
          ]
        }
      ]
    },
    {
      "cell_type": "code",
      "source": [
        "if n>m and n>p:print(f\"{n} es mayor\")\n",
        "elif m>n and m>p:print(f\"{m} es mayor\")\n",
        "else: print(p, \"es mayor\")"
      ],
      "metadata": {
        "colab": {
          "base_uri": "https://localhost:8080/"
        },
        "id": "4RpL3lk-D911",
        "outputId": "173c76a0-dad1-450d-b839-519dd0c5038a"
      },
      "execution_count": 63,
      "outputs": [
        {
          "output_type": "stream",
          "name": "stdout",
          "text": [
            "4 es mayor\n"
          ]
        }
      ]
    },
    {
      "cell_type": "code",
      "source": [
        "print(f\"{n} es mayor\") if n>m and n>p  else print(p, \"es mayor\")"
      ],
      "metadata": {
        "colab": {
          "base_uri": "https://localhost:8080/"
        },
        "id": "YBnKRjY7EOUM",
        "outputId": "143de9bf-92fe-4e8f-f013-178e70043337"
      },
      "execution_count": 64,
      "outputs": [
        {
          "output_type": "stream",
          "name": "stdout",
          "text": [
            "4 es mayor\n"
          ]
        }
      ]
    },
    {
      "cell_type": "code",
      "source": [
        "#Escribe un programa que reciba un año e indique si es bisiesto\n"
      ],
      "metadata": {
        "id": "wqJCIzXDDWPV"
      },
      "execution_count": null,
      "outputs": []
    }
  ]
}