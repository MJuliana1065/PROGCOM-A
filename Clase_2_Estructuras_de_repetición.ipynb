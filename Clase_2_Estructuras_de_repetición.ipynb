{
  "nbformat": 4,
  "nbformat_minor": 0,
  "metadata": {
    "colab": {
      "provenance": [],
      "authorship_tag": "ABX9TyMI/efxyd23sQDJFBLTJGrF",
      "include_colab_link": true
    },
    "kernelspec": {
      "name": "python3",
      "display_name": "Python 3"
    },
    "language_info": {
      "name": "python"
    }
  },
  "cells": [
    {
      "cell_type": "markdown",
      "metadata": {
        "id": "view-in-github",
        "colab_type": "text"
      },
      "source": [
        "<a href=\"https://colab.research.google.com/github/MJuliana1065/PROGCOM-A/blob/main/Clase_2_Estructuras_de_repetici%C3%B3n.ipynb\" target=\"_parent\"><img src=\"https://colab.research.google.com/assets/colab-badge.svg\" alt=\"Open In Colab\"/></a>"
      ]
    },
    {
      "cell_type": "markdown",
      "source": [
        "##Estructuras de repetición\n",
        "permite repetir una o más acciones de acuerdo con una condición  \n",
        "(mientras se cumpla la condición)."
      ],
      "metadata": {
        "id": "WFxy9uOFQhBp"
      }
    },
    {
      "cell_type": "markdown",
      "source": [
        "##Estructura para - for\n",
        "\n",
        "1. cuando se sabe cuántas veces se repite una acción.\n",
        "2. Está conformado por una condición inicial (CI) una condición final (CF) y pasos (frecuencia de repetición).\n",
        "3. Esta estructura no se detendrá, hasta alcanzar CF - 1\n",
        "\n",
        "Estructura general del for\n",
        "```\n",
        "for (variable) in range (CI,CF+1,paso):\n",
        "  Se repite (CF+1-CI)/paso veces una acción\n",
        "```\n",
        "\n",
        "Estructura resumida el for\n",
        "```\n",
        "for (variable) in range (cantidad):\n",
        "  Se repite cantidad de veces una acción\n",
        "```\n",
        "\n",
        "Estructura for como iteración\n",
        "1. El para (for) itera tantas veces, como elementos tenga la lista\n",
        "2. La variable toma el valor de cada elemento de la lista por iteración\n",
        "```\n",
        "Lista=[1,2,3,4,5]\n",
        "for (variable) in Lista:\n",
        "  Se repite len(Lista)\n",
        "```\n",
        "\n",
        "\n",
        "\n",
        "\n"
      ],
      "metadata": {
        "id": "zT6FxpZ1RFSQ"
      }
    },
    {
      "cell_type": "code",
      "source": [
        "print(f\"Tabla del 1 al 10\")\n",
        "print(\"\")\n",
        "for tabla in range(1,11):\n",
        "  print(f\"Tabla del {tabla}\")\n",
        "  for numero in range(1,11):\n",
        "    print(f\"{tabla} x {numero} = {tabla*numero} \")\n",
        "  print(\"\")\n"
      ],
      "metadata": {
        "colab": {
          "base_uri": "https://localhost:8080/"
        },
        "id": "T625NBTLUE-N",
        "outputId": "d13cdd24-38ae-425d-9211-ed0f3daec1ad"
      },
      "execution_count": null,
      "outputs": [
        {
          "output_type": "stream",
          "name": "stdout",
          "text": [
            "Tabla del 1 al 10\n",
            "\n",
            "Tabla del 1\n",
            "1 x 1 = 1 \n",
            "1 x 2 = 2 \n",
            "1 x 3 = 3 \n",
            "1 x 4 = 4 \n",
            "1 x 5 = 5 \n",
            "1 x 6 = 6 \n",
            "1 x 7 = 7 \n",
            "1 x 8 = 8 \n",
            "1 x 9 = 9 \n",
            "1 x 10 = 10 \n",
            "\n",
            "Tabla del 2\n",
            "2 x 1 = 2 \n",
            "2 x 2 = 4 \n",
            "2 x 3 = 6 \n",
            "2 x 4 = 8 \n",
            "2 x 5 = 10 \n",
            "2 x 6 = 12 \n",
            "2 x 7 = 14 \n",
            "2 x 8 = 16 \n",
            "2 x 9 = 18 \n",
            "2 x 10 = 20 \n",
            "\n",
            "Tabla del 3\n",
            "3 x 1 = 3 \n",
            "3 x 2 = 6 \n",
            "3 x 3 = 9 \n",
            "3 x 4 = 12 \n",
            "3 x 5 = 15 \n",
            "3 x 6 = 18 \n",
            "3 x 7 = 21 \n",
            "3 x 8 = 24 \n",
            "3 x 9 = 27 \n",
            "3 x 10 = 30 \n",
            "\n",
            "Tabla del 4\n",
            "4 x 1 = 4 \n",
            "4 x 2 = 8 \n",
            "4 x 3 = 12 \n",
            "4 x 4 = 16 \n",
            "4 x 5 = 20 \n",
            "4 x 6 = 24 \n",
            "4 x 7 = 28 \n",
            "4 x 8 = 32 \n",
            "4 x 9 = 36 \n",
            "4 x 10 = 40 \n",
            "\n",
            "Tabla del 5\n",
            "5 x 1 = 5 \n",
            "5 x 2 = 10 \n",
            "5 x 3 = 15 \n",
            "5 x 4 = 20 \n",
            "5 x 5 = 25 \n",
            "5 x 6 = 30 \n",
            "5 x 7 = 35 \n",
            "5 x 8 = 40 \n",
            "5 x 9 = 45 \n",
            "5 x 10 = 50 \n",
            "\n",
            "Tabla del 6\n",
            "6 x 1 = 6 \n",
            "6 x 2 = 12 \n",
            "6 x 3 = 18 \n",
            "6 x 4 = 24 \n",
            "6 x 5 = 30 \n",
            "6 x 6 = 36 \n",
            "6 x 7 = 42 \n",
            "6 x 8 = 48 \n",
            "6 x 9 = 54 \n",
            "6 x 10 = 60 \n",
            "\n",
            "Tabla del 7\n",
            "7 x 1 = 7 \n",
            "7 x 2 = 14 \n",
            "7 x 3 = 21 \n",
            "7 x 4 = 28 \n",
            "7 x 5 = 35 \n",
            "7 x 6 = 42 \n",
            "7 x 7 = 49 \n",
            "7 x 8 = 56 \n",
            "7 x 9 = 63 \n",
            "7 x 10 = 70 \n",
            "\n",
            "Tabla del 8\n",
            "8 x 1 = 8 \n",
            "8 x 2 = 16 \n",
            "8 x 3 = 24 \n",
            "8 x 4 = 32 \n",
            "8 x 5 = 40 \n",
            "8 x 6 = 48 \n",
            "8 x 7 = 56 \n",
            "8 x 8 = 64 \n",
            "8 x 9 = 72 \n",
            "8 x 10 = 80 \n",
            "\n",
            "Tabla del 9\n",
            "9 x 1 = 9 \n",
            "9 x 2 = 18 \n",
            "9 x 3 = 27 \n",
            "9 x 4 = 36 \n",
            "9 x 5 = 45 \n",
            "9 x 6 = 54 \n",
            "9 x 7 = 63 \n",
            "9 x 8 = 72 \n",
            "9 x 9 = 81 \n",
            "9 x 10 = 90 \n",
            "\n",
            "Tabla del 10\n",
            "10 x 1 = 10 \n",
            "10 x 2 = 20 \n",
            "10 x 3 = 30 \n",
            "10 x 4 = 40 \n",
            "10 x 5 = 50 \n",
            "10 x 6 = 60 \n",
            "10 x 7 = 70 \n",
            "10 x 8 = 80 \n",
            "10 x 9 = 90 \n",
            "10 x 10 = 100 \n",
            "\n"
          ]
        }
      ]
    },
    {
      "cell_type": "code",
      "source": [
        "print(f\"Tabla del {n}\")\n",
        "for holitas in range(10):\n",
        "  print(f\"{n} x {holitas+1} = {n*(holitas+1)}\")"
      ],
      "metadata": {
        "colab": {
          "base_uri": "https://localhost:8080/"
        },
        "id": "ZUjN_d_FX_S7",
        "outputId": "ee2b1f48-69ce-46c5-e63d-44e7205a2010"
      },
      "execution_count": null,
      "outputs": [
        {
          "output_type": "stream",
          "name": "stdout",
          "text": [
            "Tabla del []\n",
            "[] x 1 = []\n",
            "[] x 2 = []\n",
            "[] x 3 = []\n",
            "[] x 4 = []\n",
            "[] x 5 = []\n",
            "[] x 6 = []\n",
            "[] x 7 = []\n",
            "[] x 8 = []\n",
            "[] x 9 = []\n",
            "[] x 10 = []\n"
          ]
        }
      ]
    },
    {
      "cell_type": "code",
      "source": [
        "n=7\n",
        "print(f\"Tabla del {n}\")\n",
        "for holitas in range(n,10*n,n):\n",
        "  print(f\"{n} x {int(holitas/n)} = {int(n*holitas/n)}\")\n"
      ],
      "metadata": {
        "colab": {
          "base_uri": "https://localhost:8080/"
        },
        "id": "IocMooYWZZ5x",
        "outputId": "02b570ba-510b-40b9-b65d-207121b89a28"
      },
      "execution_count": null,
      "outputs": [
        {
          "output_type": "stream",
          "name": "stdout",
          "text": [
            "Tabla del 7\n",
            "7 x 1 = 7\n",
            "7 x 2 = 14\n",
            "7 x 3 = 21\n",
            "7 x 4 = 28\n",
            "7 x 5 = 35\n",
            "7 x 6 = 42\n",
            "7 x 7 = 49\n",
            "7 x 8 = 56\n",
            "7 x 9 = 63\n"
          ]
        }
      ]
    },
    {
      "cell_type": "code",
      "source": [
        "numeros=[1,2,3,4,5,6,7,8,9,10]\n",
        "for num in numeros:\n",
        "  print(f\"{n} x {num} = {n*num}\")"
      ],
      "metadata": {
        "colab": {
          "base_uri": "https://localhost:8080/"
        },
        "id": "_tN68nxwgQqM",
        "outputId": "df788748-899f-4126-f865-788f2a9a80eb"
      },
      "execution_count": null,
      "outputs": [
        {
          "output_type": "stream",
          "name": "stdout",
          "text": [
            "7 x 1 = 7\n",
            "7 x 2 = 14\n",
            "7 x 3 = 21\n",
            "7 x 4 = 28\n",
            "7 x 5 = 35\n",
            "7 x 6 = 42\n",
            "7 x 7 = 49\n",
            "7 x 8 = 56\n",
            "7 x 9 = 63\n",
            "7 x 10 = 70\n"
          ]
        }
      ]
    },
    {
      "cell_type": "markdown",
      "source": [
        "##Listas\n",
        "\n",
        "1. Es un tipo de datos\n",
        "2. Tpdps los elemtos de una lista, **DEBEN** separar por comas\n",
        "3. Forma canónica para declarar una lista\n",
        "\n",
        "\n",
        "```\n",
        "(variable)=[]\n",
        "```\n",
        " Ejmplo:\n",
        " flores=[\"amapola\", \"tulipan\", \"lengua de suegra\", \"dahlia\", \"rosa\"]\n",
        "\n",
        " #sino tienen comillas no es alfanumerica\n",
        " 7. Estructuras **para** para ña creación de listas\n",
        "\n",
        "\n",
        "\n",
        "```\n",
        "#Ejemplo: Crear una lista de 5 elemtnos\n",
        "\n",
        "lista=[] #para que el programa sepa que es una lista\n",
        "for loquesea in range(5):\n",
        "lista=input(\"ingrese el nombre de una flor\")\n",
        "\n",
        "```\n",
        "\n",
        "\n"
      ],
      "metadata": {
        "id": "9742o5Tow_xB"
      }
    },
    {
      "cell_type": "code",
      "source": [
        " dahlia=3 #variable de tipo númerica, int\n",
        " rosa=\"cinco\" #variable de tipo alfanumerico, str\n",
        " flores=[\"amapola\", \"tulipan\", \"lengua de suegra\", \"dahlia\", \"rosa\"]"
      ],
      "metadata": {
        "id": "93xPJM6mykHP"
      },
      "execution_count": 5,
      "outputs": []
    },
    {
      "cell_type": "markdown",
      "source": [
        "4. Manual.\n",
        "\n",
        "\n",
        "```\n",
        "Lista2=[dato1,dato2,dato3...datoN]\n",
        "\n",
        "  ```\n",
        "5. Siempre son finitas\n",
        "6. Son indexadas (es decir, es la posicion de la lista)\n",
        "\n",
        "\n",
        "```\n",
        "Lista2=[dato1,dato2,dato3...datoN]\n",
        " ```\n",
        "\n",
        "dato1 está en el index 0\n",
        "dato2 está ubicado en el index 1\n",
        "\n",
        "\n"
      ],
      "metadata": {
        "id": "HR39GerQy0Kv"
      }
    },
    {
      "cell_type": "code",
      "source": [
        "lista=[]\n",
        "for loquesea in range(5):\n",
        "  lista=input(\"ingrese el nombre de una flor\")"
      ],
      "metadata": {
        "colab": {
          "base_uri": "https://localhost:8080/"
        },
        "id": "GZDhAhqc1nzX",
        "outputId": "9d33d18b-39c4-4175-f3d0-ea975bff2f46"
      },
      "execution_count": 6,
      "outputs": [
        {
          "name": "stdout",
          "output_type": "stream",
          "text": [
            "ingrese el nombre de una floramapola\n",
            "ingrese el nombre de una flortulipan\n",
            "ingrese el nombre de una florlengua de suegra\n",
            "ingrese el nombre de una flordahlia\n",
            "ingrese el nombre de una florrosa\n"
          ]
        }
      ]
    },
    {
      "cell_type": "code",
      "source": [
        "flores"
      ],
      "metadata": {
        "colab": {
          "base_uri": "https://localhost:8080/"
        },
        "id": "-ALsrpLQ3KeM",
        "outputId": "9d407d24-cea7-4e7d-a365-075282da068f"
      },
      "execution_count": 7,
      "outputs": [
        {
          "output_type": "execute_result",
          "data": {
            "text/plain": [
              "['amapola', 'tulipan', 'lengua de suegra', 'dahlia', 'rosa']"
            ]
          },
          "metadata": {},
          "execution_count": 7
        }
      ]
    },
    {
      "cell_type": "code",
      "source": [
        "#Quiero saber quien esta en la primera posicion\n",
        "flores[0]"
      ],
      "metadata": {
        "colab": {
          "base_uri": "https://localhost:8080/",
          "height": 35
        },
        "id": "ci4J5onS3Lsl",
        "outputId": "2358c783-d508-4abd-f16f-2fd04766fe61"
      },
      "execution_count": 8,
      "outputs": [
        {
          "output_type": "execute_result",
          "data": {
            "text/plain": [
              "'amapola'"
            ],
            "application/vnd.google.colaboratory.intrinsic+json": {
              "type": "string"
            }
          },
          "metadata": {},
          "execution_count": 8
        }
      ]
    },
    {
      "cell_type": "code",
      "source": [
        "len(flores)"
      ],
      "metadata": {
        "colab": {
          "base_uri": "https://localhost:8080/"
        },
        "id": "UpUd8s0o3SPr",
        "outputId": "888e89ce-2ba7-4ba2-96ca-6dc59b4f1f89"
      },
      "execution_count": 9,
      "outputs": [
        {
          "output_type": "execute_result",
          "data": {
            "text/plain": [
              "5"
            ]
          },
          "metadata": {},
          "execution_count": 9
        }
      ]
    },
    {
      "cell_type": "code",
      "source": [
        "flores[len(flores)-1]"
      ],
      "metadata": {
        "colab": {
          "base_uri": "https://localhost:8080/",
          "height": 35
        },
        "id": "lbRnYtkj3Ue7",
        "outputId": "55738b0e-369a-43b7-8239-7d78402f1a04"
      },
      "execution_count": 10,
      "outputs": [
        {
          "output_type": "execute_result",
          "data": {
            "text/plain": [
              "'rosa'"
            ],
            "application/vnd.google.colaboratory.intrinsic+json": {
              "type": "string"
            }
          },
          "metadata": {},
          "execution_count": 10
        }
      ]
    },
    {
      "cell_type": "code",
      "source": [
        "flores.index(\"lengua de suegra\")"
      ],
      "metadata": {
        "colab": {
          "base_uri": "https://localhost:8080/"
        },
        "id": "RN0qKtm03qdb",
        "outputId": "bd700e3f-45cf-48c2-c0b2-db4c1b6562a4"
      },
      "execution_count": 12,
      "outputs": [
        {
          "output_type": "execute_result",
          "data": {
            "text/plain": [
              "2"
            ]
          },
          "metadata": {},
          "execution_count": 12
        }
      ]
    },
    {
      "cell_type": "code",
      "source": [
        "type(lista)"
      ],
      "metadata": {
        "id": "wsNiWGbS7q_B"
      },
      "execution_count": null,
      "outputs": []
    },
    {
      "cell_type": "code",
      "source": [
        "lista=[]\n",
        "for loquesea in range(5):\n",
        "  lista=input(\"ingrese el nombre de una flor\")"
      ],
      "metadata": {
        "id": "GVPpqLz94ubK"
      },
      "execution_count": null,
      "outputs": []
    },
    {
      "cell_type": "code",
      "source": [
        "lista=[]\n",
        "for loquesea in range (5):\n",
        "  lista.append(loquesea)"
      ],
      "metadata": {
        "id": "QD7ZZ1pG65ga"
      },
      "execution_count": 13,
      "outputs": []
    },
    {
      "cell_type": "code",
      "source": [
        "lista"
      ],
      "metadata": {
        "colab": {
          "base_uri": "https://localhost:8080/"
        },
        "id": "NGzr3V607DkI",
        "outputId": "2a83231c-5867-4e18-a0e9-442ec2fda52e"
      },
      "execution_count": 14,
      "outputs": [
        {
          "output_type": "execute_result",
          "data": {
            "text/plain": [
              "[0, 1, 2, 3, 4]"
            ]
          },
          "metadata": {},
          "execution_count": 14
        }
      ]
    },
    {
      "cell_type": "code",
      "source": [
        "#mutabilidad e inmatubalidad y que procede con nuestras vidas y su importancia: mostrar errores"
      ],
      "metadata": {
        "id": "U_SNLeZv7JyY"
      },
      "execution_count": null,
      "outputs": []
    },
    {
      "cell_type": "code",
      "source": [
        "#Estructuras de repetición\n",
        "#Escribe un programa que imprima los números del 1 al 10.\n",
        "\n",
        "#forma 1\n",
        "n=0\n",
        "for n in range(1,11,1):\n",
        "  print(n)\n"
      ],
      "metadata": {
        "colab": {
          "base_uri": "https://localhost:8080/"
        },
        "id": "eejegC9R7ohA",
        "outputId": "a7238b6c-7b64-4cb4-bca5-b73e15e5ceaa"
      },
      "execution_count": 29,
      "outputs": [
        {
          "output_type": "stream",
          "name": "stdout",
          "text": [
            "1\n",
            "2\n",
            "3\n",
            "4\n",
            "5\n",
            "6\n",
            "7\n",
            "8\n",
            "9\n",
            "10\n"
          ]
        }
      ]
    },
    {
      "cell_type": "code",
      "source": [
        "#forma 2\n",
        "lista=[1,2,3,4,5,6,7,8,9,10]\n",
        "for n in lista:\n",
        "  print(n)\n"
      ],
      "metadata": {
        "colab": {
          "base_uri": "https://localhost:8080/"
        },
        "id": "KjkXk1EX87Y3",
        "outputId": "41323108-4efd-4ba1-98b4-e49e942c7925"
      },
      "execution_count": 37,
      "outputs": [
        {
          "output_type": "stream",
          "name": "stdout",
          "text": [
            "1\n",
            "2\n",
            "3\n",
            "4\n",
            "5\n",
            "6\n",
            "7\n",
            "8\n",
            "9\n",
            "10\n"
          ]
        }
      ]
    },
    {
      "cell_type": "code",
      "source": [
        "#Escribe un programa que sume los números del 1 al 100.\n",
        "\n",
        "for n in range(1,100,1):\n",
        "  s=n+1\n",
        "  print(s)"
      ],
      "metadata": {
        "colab": {
          "base_uri": "https://localhost:8080/"
        },
        "id": "0P1u2a1l9oR2",
        "outputId": "a2904256-b938-489e-fa2d-6221dfb245a1"
      },
      "execution_count": 39,
      "outputs": [
        {
          "output_type": "stream",
          "name": "stdout",
          "text": [
            "2\n",
            "3\n",
            "4\n",
            "5\n",
            "6\n",
            "7\n",
            "8\n",
            "9\n",
            "10\n",
            "11\n",
            "12\n",
            "13\n",
            "14\n",
            "15\n",
            "16\n",
            "17\n",
            "18\n",
            "19\n",
            "20\n",
            "21\n",
            "22\n",
            "23\n",
            "24\n",
            "25\n",
            "26\n",
            "27\n",
            "28\n",
            "29\n",
            "30\n",
            "31\n",
            "32\n",
            "33\n",
            "34\n",
            "35\n",
            "36\n",
            "37\n",
            "38\n",
            "39\n",
            "40\n",
            "41\n",
            "42\n",
            "43\n",
            "44\n",
            "45\n",
            "46\n",
            "47\n",
            "48\n",
            "49\n",
            "50\n",
            "51\n",
            "52\n",
            "53\n",
            "54\n",
            "55\n",
            "56\n",
            "57\n",
            "58\n",
            "59\n",
            "60\n",
            "61\n",
            "62\n",
            "63\n",
            "64\n",
            "65\n",
            "66\n",
            "67\n",
            "68\n",
            "69\n",
            "70\n",
            "71\n",
            "72\n",
            "73\n",
            "74\n",
            "75\n",
            "76\n",
            "77\n",
            "78\n",
            "79\n",
            "80\n",
            "81\n",
            "82\n",
            "83\n",
            "84\n",
            "85\n",
            "86\n",
            "87\n",
            "88\n",
            "89\n",
            "90\n",
            "91\n",
            "92\n",
            "93\n",
            "94\n",
            "95\n",
            "96\n",
            "97\n",
            "98\n",
            "99\n",
            "100\n"
          ]
        }
      ]
    },
    {
      "cell_type": "code",
      "source": [
        "lista=[1, 2, 3, 4, 5, 6, 7, 8, 9, 10, 11, 12, 13, 14, 15, 16, 17, 18, 19, 20, 21, 22, 23, 24, 25, 26, 27, 28, 29, 30, 31, 32, 33, 34, 35, 36, 37, 38, 39, 40, 41, 42, 43, 44, 45, 46, 47, 48, 49, 50, 51, 52, 53, 54, 55, 56, 57, 58, 59, 60, 61, 62, 63, 64, 65, 66, 67, 68, 69, 70, 71, 72, 73, 74, 75, 76, 77, 78, 79, 80, 81, 82, 83, 84, 85, 86, 87, 88, 89, 90, 91, 92, 93, 94, 95, 96, 97, 98, 99, 100]\n",
        "for n in lista:\n",
        "  print(n)"
      ],
      "metadata": {
        "colab": {
          "base_uri": "https://localhost:8080/"
        },
        "id": "qP4qFB0B-nLV",
        "outputId": "f9f477b0-acea-42a1-90d5-aedb4e49370a"
      },
      "execution_count": 102,
      "outputs": [
        {
          "output_type": "stream",
          "name": "stdout",
          "text": [
            "1\n",
            "2\n",
            "3\n",
            "4\n",
            "5\n",
            "6\n",
            "7\n",
            "8\n",
            "9\n",
            "10\n",
            "11\n",
            "12\n",
            "13\n",
            "14\n",
            "15\n",
            "16\n",
            "17\n",
            "18\n",
            "19\n",
            "20\n",
            "21\n",
            "22\n",
            "23\n",
            "24\n",
            "25\n",
            "26\n",
            "27\n",
            "28\n",
            "29\n",
            "30\n",
            "31\n",
            "32\n",
            "33\n",
            "34\n",
            "35\n",
            "36\n",
            "37\n",
            "38\n",
            "39\n",
            "40\n",
            "41\n",
            "42\n",
            "43\n",
            "44\n",
            "45\n",
            "46\n",
            "47\n",
            "48\n",
            "49\n",
            "50\n",
            "51\n",
            "52\n",
            "53\n",
            "54\n",
            "55\n",
            "56\n",
            "57\n",
            "58\n",
            "59\n",
            "60\n",
            "61\n",
            "62\n",
            "63\n",
            "64\n",
            "65\n",
            "66\n",
            "67\n",
            "68\n",
            "69\n",
            "70\n",
            "71\n",
            "72\n",
            "73\n",
            "74\n",
            "75\n",
            "76\n",
            "77\n",
            "78\n",
            "79\n",
            "80\n",
            "81\n",
            "82\n",
            "83\n",
            "84\n",
            "85\n",
            "86\n",
            "87\n",
            "88\n",
            "89\n",
            "90\n",
            "91\n",
            "92\n",
            "93\n",
            "94\n",
            "95\n",
            "96\n",
            "97\n",
            "98\n",
            "99\n",
            "100\n"
          ]
        }
      ]
    },
    {
      "cell_type": "code",
      "source": [
        "#Escribe un programa que imprima los multiplos de 3 entre 1 y 30\n",
        "\n",
        "#forma 1\n",
        "for n in range(1,31):\n",
        "  if n%3==0:\n",
        "    print(n)"
      ],
      "metadata": {
        "colab": {
          "base_uri": "https://localhost:8080/"
        },
        "id": "HxiT6pMT_lfF",
        "outputId": "5a7e3072-bbb6-4d64-fda1-18111ea54dca"
      },
      "execution_count": 68,
      "outputs": [
        {
          "output_type": "stream",
          "name": "stdout",
          "text": [
            "3\n",
            "6\n",
            "9\n",
            "12\n",
            "15\n",
            "18\n",
            "21\n",
            "24\n",
            "27\n",
            "30\n"
          ]
        }
      ]
    },
    {
      "cell_type": "code",
      "source": [
        "#forma 2\n",
        "lista=[3,6,9,12,15,18,21,24,27,30]\n",
        "for n in lista:\n",
        "    print(n)"
      ],
      "metadata": {
        "colab": {
          "base_uri": "https://localhost:8080/"
        },
        "id": "ISceSq8ABhFT",
        "outputId": "fda6f7db-e6bf-4a2d-84ea-efe38153df35"
      },
      "execution_count": 67,
      "outputs": [
        {
          "output_type": "stream",
          "name": "stdout",
          "text": [
            "3\n",
            "6\n",
            "9\n",
            "12\n",
            "15\n",
            "18\n",
            "21\n",
            "24\n",
            "27\n",
            "30\n"
          ]
        }
      ]
    },
    {
      "cell_type": "code",
      "source": [
        "#Escribe un programa que lea un numero e imprima su tabla de multiplicar del 1 al 10\n",
        "\n",
        "#forma 1\n",
        "n1=int(input(\" ingresa un numero \"))\n",
        "print(f\"Tabla del {n1}\")\n",
        "for tb in range(n1,11*n1,n1):\n",
        "  print(\"\")\n",
        "  print(f\"{n1} x {int(tb/n1)} = {int(n1*tb/n1)} \")\n",
        "\n"
      ],
      "metadata": {
        "colab": {
          "base_uri": "https://localhost:8080/"
        },
        "id": "XKMZVDMtCAzj",
        "outputId": "b2504e9b-d228-4964-b1d1-774c922f63e9"
      },
      "execution_count": 91,
      "outputs": [
        {
          "output_type": "stream",
          "name": "stdout",
          "text": [
            " ingresa un numero 5\n",
            "Tabla del 5\n",
            "\n",
            "5 x 1 = 5 \n",
            "\n",
            "5 x 2 = 10 \n",
            "\n",
            "5 x 3 = 15 \n",
            "\n",
            "5 x 4 = 20 \n",
            "\n",
            "5 x 5 = 25 \n",
            "\n",
            "5 x 6 = 30 \n",
            "\n",
            "5 x 7 = 35 \n",
            "\n",
            "5 x 8 = 40 \n",
            "\n",
            "5 x 9 = 45 \n",
            "\n",
            "5 x 10 = 50 \n"
          ]
        }
      ]
    },
    {
      "cell_type": "code",
      "source": [
        "#forma 2\n",
        "lista=[1,2,3,4,5,6,7,8,9]\n",
        "n=int(input(\"ingresa un numero\"))\n",
        "for n in lista:\n",
        "  print(f\"la tabla es {n*lista}\")"
      ],
      "metadata": {
        "colab": {
          "base_uri": "https://localhost:8080/",
          "height": 211
        },
        "id": "TtVAs-wLEjWa",
        "outputId": "747c7839-4a57-4e1d-c3aa-37f394d46efc"
      },
      "execution_count": 97,
      "outputs": [
        {
          "name": "stdout",
          "output_type": "stream",
          "text": [
            "ingresa un numero2\n"
          ]
        },
        {
          "output_type": "error",
          "ename": "TypeError",
          "evalue": "'list' object is not callable",
          "traceback": [
            "\u001b[0;31m---------------------------------------------------------------------------\u001b[0m",
            "\u001b[0;31mTypeError\u001b[0m                                 Traceback (most recent call last)",
            "\u001b[0;32m/tmp/ipython-input-4136572791.py\u001b[0m in \u001b[0;36m<cell line: 0>\u001b[0;34m()\u001b[0m\n\u001b[1;32m      2\u001b[0m \u001b[0mlista\u001b[0m\u001b[0;34m=\u001b[0m\u001b[0;34m[\u001b[0m\u001b[0;36m1\u001b[0m\u001b[0;34m,\u001b[0m\u001b[0;36m2\u001b[0m\u001b[0;34m,\u001b[0m\u001b[0;36m3\u001b[0m\u001b[0;34m,\u001b[0m\u001b[0;36m4\u001b[0m\u001b[0;34m,\u001b[0m\u001b[0;36m5\u001b[0m\u001b[0;34m,\u001b[0m\u001b[0;36m6\u001b[0m\u001b[0;34m,\u001b[0m\u001b[0;36m7\u001b[0m\u001b[0;34m,\u001b[0m\u001b[0;36m8\u001b[0m\u001b[0;34m,\u001b[0m\u001b[0;36m9\u001b[0m\u001b[0;34m]\u001b[0m\u001b[0;34m\u001b[0m\u001b[0;34m\u001b[0m\u001b[0m\n\u001b[1;32m      3\u001b[0m \u001b[0mn\u001b[0m\u001b[0;34m=\u001b[0m\u001b[0mint\u001b[0m\u001b[0;34m(\u001b[0m\u001b[0minput\u001b[0m\u001b[0;34m(\u001b[0m\u001b[0;34m\"ingresa un numero\"\u001b[0m\u001b[0;34m)\u001b[0m\u001b[0;34m)\u001b[0m\u001b[0;34m\u001b[0m\u001b[0;34m\u001b[0m\u001b[0m\n\u001b[0;32m----> 4\u001b[0;31m \u001b[0;32mfor\u001b[0m \u001b[0mn\u001b[0m \u001b[0;32min\u001b[0m \u001b[0mlista\u001b[0m\u001b[0;34m(\u001b[0m\u001b[0mn\u001b[0m\u001b[0;34m)\u001b[0m\u001b[0;34m:\u001b[0m\u001b[0;34m\u001b[0m\u001b[0;34m\u001b[0m\u001b[0m\n\u001b[0m\u001b[1;32m      5\u001b[0m   \u001b[0mprint\u001b[0m\u001b[0;34m(\u001b[0m\u001b[0;34mf\"la tabla es {n*lista}\"\u001b[0m\u001b[0;34m)\u001b[0m\u001b[0;34m\u001b[0m\u001b[0;34m\u001b[0m\u001b[0m\n",
            "\u001b[0;31mTypeError\u001b[0m: 'list' object is not callable"
          ]
        }
      ]
    }
  ]
}