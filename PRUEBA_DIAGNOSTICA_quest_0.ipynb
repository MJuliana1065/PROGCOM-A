{
  "nbformat": 4,
  "nbformat_minor": 0,
  "metadata": {
    "colab": {
      "provenance": []
    },
    "kernelspec": {
      "name": "python3",
      "display_name": "Python 3"
    },
    "language_info": {
      "name": "python"
    }
  },
  "cells": [
    {
      "cell_type": "code",
      "execution_count": null,
      "metadata": {
        "id": "VX2fa9s1LfKX"
      },
      "outputs": [],
      "source": []
    },
    {
      "cell_type": "markdown",
      "source": [
        "##Estructura de selección\n",
        "Aquí se desarrollara ejercicios sobre estructuras de selección por pseint\n",
        "\n",
        "```\n",
        "si (condición) entonces:\n",
        "  pasan cosas divertida ⏰\n",
        "  sino:\n",
        "    llórelo ☹\n",
        "```\n",
        " por algoritmia\n",
        " 1. solicito la variable y la almaceno en A\n",
        " 2. Comparo esa variable con la B\n"
      ],
      "metadata": {
        "id": "PY2-tD7OLvVh"
      }
    },
    {
      "cell_type": "code",
      "source": [],
      "metadata": {
        "id": "UC0C-hGML7lJ"
      },
      "execution_count": null,
      "outputs": []
    }
  ]
}